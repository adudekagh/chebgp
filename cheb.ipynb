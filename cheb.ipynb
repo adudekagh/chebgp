{
 "cells": [
  {
   "cell_type": "code",
   "execution_count": 1,
   "metadata": {},
   "outputs": [],
   "source": [
    "from cmdstanpy import CmdStanModel\n",
    "import pandas as pd\n",
    "#import arviz as az \n",
    "import numpy as np\n",
    "import matplotlib.pyplot as plt\n",
    "import scipy.stats as stats\n",
    "import math\n",
    "from sklearn.metrics import mean_squared_error"
   ]
  },
  {
   "cell_type": "code",
   "execution_count": 2,
   "metadata": {},
   "outputs": [
    {
     "name": "stdout",
     "output_type": "stream",
     "text": [
      "CmdStan install directory: /Users/adrian/.cmdstan\n",
      "Installing CmdStan version: 2.34.0\n",
      "Downloading CmdStan version 2.34.0\n",
      "Download successful, file: /var/folders/9n/r4vjq9192fgcm1vns8j8f8kw0000gn/T/tmp7n3d5qrm\n",
      "Extracting distribution\n",
      "Unpacked download as cmdstan-2.34.0\n",
      "Building version cmdstan-2.34.0, may take several minutes, depending on your system.\n",
      "Installed cmdstan-2.34.0\n",
      "Test model compilation\n"
     ]
    },
    {
     "name": "stderr",
     "output_type": "stream",
     "text": [
      "17:22:32 - cmdstanpy - WARNING - CmdStan installation failed.\n",
      "Command \"make examples/bernoulli/bernoulli\" failed:\n",
      "Command ['make', 'examples/bernoulli/bernoulli']\n",
      "\terror during processing No such file or directory\n"
     ]
    },
    {
     "data": {
      "text/plain": [
       "False"
      ]
     },
     "execution_count": 2,
     "metadata": {},
     "output_type": "execute_result"
    }
   ],
   "source": [
    "import cmdstanpy\n",
    "cmdstanpy.install_cmdstan()"
   ]
  },
  {
   "cell_type": "code",
   "execution_count": 17,
   "metadata": {},
   "outputs": [
    {
     "data": {
      "application/vnd.jupyter.widget-view+json": {
       "model_id": "e3dba74b5f144c40a79ceb3014e05dc8",
       "version_major": 2,
       "version_minor": 0
      },
      "text/plain": [
       " (00:00) |            | Building CmdStan                     "
      ]
     },
     "metadata": {},
     "output_type": "display_data"
    },
    {
     "ename": "CmdStanInstallError",
     "evalue": "Command \"make examples/bernoulli/bernoulli\" failed:\nCommand ['make', 'examples/bernoulli/bernoulli']\n\terror during processing No such file or directory",
     "output_type": "error",
     "traceback": [
      "\u001b[0;31m---------------------------------------------------------------------------\u001b[0m",
      "\u001b[0;31mRuntimeError\u001b[0m                              Traceback (most recent call last)",
      "File \u001b[0;32m~/Library/Python/3.9/lib/python/site-packages/cmdstanpy/install_cmdstan.py:361\u001b[0m, in \u001b[0;36mcompile_example\u001b[0;34m(verbose)\u001b[0m\n\u001b[1;32m    360\u001b[0m     \u001b[38;5;28;01melse\u001b[39;00m:\n\u001b[0;32m--> 361\u001b[0m         \u001b[43mdo_command\u001b[49m\u001b[43m(\u001b[49m\u001b[43mcmd\u001b[49m\u001b[43m,\u001b[49m\u001b[43m \u001b[49m\u001b[43mfd_out\u001b[49m\u001b[38;5;241;43m=\u001b[39;49m\u001b[38;5;28;43;01mNone\u001b[39;49;00m\u001b[43m)\u001b[49m\n\u001b[1;32m    362\u001b[0m \u001b[38;5;28;01mexcept\u001b[39;00m \u001b[38;5;167;01mRuntimeError\u001b[39;00m \u001b[38;5;28;01mas\u001b[39;00m e:\n\u001b[1;32m    363\u001b[0m     \u001b[38;5;66;03m# pylint: disable=raise-missing-from\u001b[39;00m\n",
      "File \u001b[0;32m~/Library/Python/3.9/lib/python/site-packages/cmdstanpy/utils/command.py:76\u001b[0m, in \u001b[0;36mdo_command\u001b[0;34m(cmd, cwd, fd_out, pbar)\u001b[0m\n\u001b[1;32m     73\u001b[0m             msg \u001b[38;5;241m=\u001b[39m \u001b[38;5;124m'\u001b[39m\u001b[38;5;124mCommand \u001b[39m\u001b[38;5;132;01m{}\u001b[39;00m\u001b[38;5;130;01m\\n\u001b[39;00m\u001b[38;5;130;01m\\t\u001b[39;00m\u001b[38;5;132;01m{}\u001b[39;00m\u001b[38;5;124m \u001b[39m\u001b[38;5;132;01m{}\u001b[39;00m\u001b[38;5;124m'\u001b[39m\u001b[38;5;241m.\u001b[39mformat(\n\u001b[1;32m     74\u001b[0m                 cmd, returncode_msg(proc\u001b[38;5;241m.\u001b[39mreturncode), serror\n\u001b[1;32m     75\u001b[0m             )\n\u001b[0;32m---> 76\u001b[0m             \u001b[38;5;28;01mraise\u001b[39;00m \u001b[38;5;167;01mRuntimeError\u001b[39;00m(msg)\n\u001b[1;32m     77\u001b[0m \u001b[38;5;28;01mexcept\u001b[39;00m \u001b[38;5;167;01mOSError\u001b[39;00m \u001b[38;5;28;01mas\u001b[39;00m e:\n",
      "\u001b[0;31mRuntimeError\u001b[0m: Command ['make', 'examples/bernoulli/bernoulli']\n\terror during processing No such file or directory",
      "\nDuring handling of the above exception, another exception occurred:\n",
      "\u001b[0;31mCmdStanInstallError\u001b[0m                       Traceback (most recent call last)",
      "Cell \u001b[0;32mIn [17], line 2\u001b[0m\n\u001b[1;32m      1\u001b[0m \u001b[38;5;28;01mfrom\u001b[39;00m \u001b[38;5;21;01mcmdstanpy\u001b[39;00m \u001b[38;5;28;01mimport\u001b[39;00m rebuild_cmdstan\n\u001b[0;32m----> 2\u001b[0m \u001b[43mrebuild_cmdstan\u001b[49m\u001b[43m(\u001b[49m\u001b[43m)\u001b[49m\n",
      "File \u001b[0;32m~/Library/Python/3.9/lib/python/site-packages/cmdstanpy/install_cmdstan.py:390\u001b[0m, in \u001b[0;36mrebuild_cmdstan\u001b[0;34m(verbose, progress, cores)\u001b[0m\n\u001b[1;32m    388\u001b[0m         clean_all(verbose)\n\u001b[1;32m    389\u001b[0m         build(verbose, progress, cores)\n\u001b[0;32m--> 390\u001b[0m         \u001b[43mcompile_example\u001b[49m\u001b[43m(\u001b[49m\u001b[43mverbose\u001b[49m\u001b[43m)\u001b[49m\n\u001b[1;32m    391\u001b[0m \u001b[38;5;28;01mexcept\u001b[39;00m \u001b[38;5;167;01mValueError\u001b[39;00m \u001b[38;5;28;01mas\u001b[39;00m e:\n\u001b[1;32m    392\u001b[0m     \u001b[38;5;28;01mraise\u001b[39;00m CmdStanInstallError(\n\u001b[1;32m    393\u001b[0m         \u001b[38;5;124m\"\u001b[39m\u001b[38;5;124mFailed to rebuild CmdStan. Are you sure it is installed?\u001b[39m\u001b[38;5;124m\"\u001b[39m\n\u001b[1;32m    394\u001b[0m     ) \u001b[38;5;28;01mfrom\u001b[39;00m \u001b[38;5;21;01me\u001b[39;00m\n",
      "File \u001b[0;32m~/Library/Python/3.9/lib/python/site-packages/cmdstanpy/install_cmdstan.py:364\u001b[0m, in \u001b[0;36mcompile_example\u001b[0;34m(verbose)\u001b[0m\n\u001b[1;32m    361\u001b[0m         do_command(cmd, fd_out\u001b[38;5;241m=\u001b[39m\u001b[38;5;28;01mNone\u001b[39;00m)\n\u001b[1;32m    362\u001b[0m \u001b[38;5;28;01mexcept\u001b[39;00m \u001b[38;5;167;01mRuntimeError\u001b[39;00m \u001b[38;5;28;01mas\u001b[39;00m e:\n\u001b[1;32m    363\u001b[0m     \u001b[38;5;66;03m# pylint: disable=raise-missing-from\u001b[39;00m\n\u001b[0;32m--> 364\u001b[0m     \u001b[38;5;28;01mraise\u001b[39;00m CmdStanInstallError(\u001b[38;5;124mf\u001b[39m\u001b[38;5;124m'\u001b[39m\u001b[38;5;124mCommand \u001b[39m\u001b[38;5;124m\"\u001b[39m\u001b[38;5;132;01m{\u001b[39;00m\u001b[38;5;124m\"\u001b[39m\u001b[38;5;124m \u001b[39m\u001b[38;5;124m\"\u001b[39m\u001b[38;5;241m.\u001b[39mjoin(cmd)\u001b[38;5;132;01m}\u001b[39;00m\u001b[38;5;124m\"\u001b[39m\u001b[38;5;124m failed:\u001b[39m\u001b[38;5;130;01m\\n\u001b[39;00m\u001b[38;5;132;01m{\u001b[39;00me\u001b[38;5;132;01m}\u001b[39;00m\u001b[38;5;124m'\u001b[39m)\n\u001b[1;32m    366\u001b[0m \u001b[38;5;28;01mif\u001b[39;00m \u001b[38;5;129;01mnot\u001b[39;00m path\u001b[38;5;241m.\u001b[39mis_file():\n\u001b[1;32m    367\u001b[0m     \u001b[38;5;28;01mraise\u001b[39;00m CmdStanInstallError(\u001b[38;5;124m\"\u001b[39m\u001b[38;5;124mFailed to generate example binary\u001b[39m\u001b[38;5;124m\"\u001b[39m)\n",
      "\u001b[0;31mCmdStanInstallError\u001b[0m: Command \"make examples/bernoulli/bernoulli\" failed:\nCommand ['make', 'examples/bernoulli/bernoulli']\n\terror during processing No such file or directory"
     ]
    }
   ],
   "source": [
    "from cmdstanpy import rebuild_cmdstan\n",
    "rebuild_cmdstan()"
   ]
  },
  {
   "cell_type": "code",
   "execution_count": 16,
   "metadata": {},
   "outputs": [
    {
     "ename": "ValueError",
     "evalue": "Failed to get source info for Stan model '/Users/adrian/Desktop/chebyshev/gp_cheb_matern.stan'. Console:\n/opt/anaconda3/bin/cmdstan/bin/stanc: unknown option '--info'.\nUsage: stanc [option] ... <model_file.stan>\n  --debug-lex                      For debugging purposes: print the lexer actions\n  --debug-parse                    For debugging purposes: print the parser actions\n  --debug-ast                      For debugging purposes: print the undecorated AST, before semantic checking\n  --debug-decorated-ast            For debugging purposes: print the decorated AST, after semantic checking\n  --debug-generate-data            For debugging purposes: generate a mock dataset to run the model on\n  --debug-mir                      For debugging purposes: print the MIR as an S-expression.\n  --debug-mir-pretty               For debugging purposes: pretty-print the MIR.\n  --debug-optimized-mir            For debugging purposes: print the MIR after it's been optimized. Only has an effect when optimizations are turned on.\n  --debug-optimized-mir-pretty     For debugging purposes: pretty print the MIR after it's been optimized. Only has an effect when optimizations are turned on.\n  --debug-transformed-mir          For debugging purposes: print the MIR after the backend has transformed it.\n  --debug-transformed-mir-pretty   For debugging purposes: pretty print the MIR after the backend has transformed it.\n  --dump-stan-math-signatures Dump out the list of supported type signatures for Stan Math backend.\n  --warn-uninitialized             Emit warnings about uninitialized variables to stderr. Currently an experimental feature.\n  --warn-pedantic                  Emit warnings about common mistakes in Stan programs.\n  --auto-format                    Pretty prints the program to the console\n  --print-canonical                Prints the canonicalized program to the console\n  --version                        Display stanc version number\n  --name                           Take a string to set the model name (default = \"$model_filename_model\")\n  --O Allow                        the compiler to apply all optimizations to the Stan code.\n  --o                              Take the path to an output file for generated C++ code (default = \"$name.hpp\")\n  --print-cpp                      If set, output the generated C++ Stan model class to stdout.\n  --allow-undefined                Do not fail if a function is declared but not defined\n  --allow_undefined                Deprecated. Same as --allow-undefined.\n  --include-paths                  Takes a comma-separated list of directories that may contain a file in an #include directive (default = \"\")\n  --include_paths                  Deprecated. Same as --include-paths.\n  --use-opencl                     If set, try to use matrix_cl signatures.\n  --standalone-functions           If set, the generated C++ will be the standalone functions C++ code.\n  -help                            Display this list of options\n  --help                           Display this list of options\n",
     "output_type": "error",
     "traceback": [
      "\u001b[0;31m---------------------------------------------------------------------------\u001b[0m",
      "\u001b[0;31mValueError\u001b[0m                                Traceback (most recent call last)",
      "Cell \u001b[0;32mIn [16], line 1\u001b[0m\n\u001b[0;32m----> 1\u001b[0m model \u001b[38;5;241m=\u001b[39m \u001b[43mCmdStanModel\u001b[49m\u001b[43m(\u001b[49m\u001b[43mstan_file\u001b[49m\u001b[38;5;241;43m=\u001b[39;49m\u001b[38;5;124;43m'\u001b[39;49m\u001b[38;5;124;43mgp_cheb_matern.stan\u001b[39;49m\u001b[38;5;124;43m'\u001b[39;49m\u001b[43m)\u001b[49m\n",
      "File \u001b[0;32m~/Library/Python/3.9/lib/python/site-packages/cmdstanpy/model.py:252\u001b[0m, in \u001b[0;36mCmdStanModel.__init__\u001b[0;34m(self, model_name, stan_file, exe_file, force_compile, stanc_options, cpp_options, user_header, compile)\u001b[0m\n\u001b[1;32m    249\u001b[0m         get_logger()\u001b[38;5;241m.\u001b[39mdebug(\u001b[38;5;124m\"\u001b[39m\u001b[38;5;124mTBB already found in load path\u001b[39m\u001b[38;5;124m\"\u001b[39m)\n\u001b[1;32m    251\u001b[0m \u001b[38;5;28;01mif\u001b[39;00m \u001b[38;5;28mcompile\u001b[39m \u001b[38;5;129;01mand\u001b[39;00m \u001b[38;5;28mself\u001b[39m\u001b[38;5;241m.\u001b[39m_exe_file \u001b[38;5;129;01mis\u001b[39;00m \u001b[38;5;28;01mNone\u001b[39;00m:\n\u001b[0;32m--> 252\u001b[0m     \u001b[38;5;28;43mself\u001b[39;49m\u001b[38;5;241;43m.\u001b[39;49m\u001b[43mcompile\u001b[49m\u001b[43m(\u001b[49m\u001b[43mforce\u001b[49m\u001b[38;5;241;43m=\u001b[39;49m\u001b[38;5;28;43mstr\u001b[39;49m\u001b[43m(\u001b[49m\u001b[38;5;28;43mcompile\u001b[39;49m\u001b[43m)\u001b[49m\u001b[38;5;241;43m.\u001b[39;49m\u001b[43mlower\u001b[49m\u001b[43m(\u001b[49m\u001b[43m)\u001b[49m\u001b[43m \u001b[49m\u001b[38;5;241;43m==\u001b[39;49m\u001b[43m \u001b[49m\u001b[38;5;124;43m'\u001b[39;49m\u001b[38;5;124;43mforce\u001b[39;49m\u001b[38;5;124;43m'\u001b[39;49m\u001b[43m,\u001b[49m\u001b[43m \u001b[49m\u001b[43m_internal\u001b[49m\u001b[38;5;241;43m=\u001b[39;49m\u001b[38;5;28;43;01mTrue\u001b[39;49;00m\u001b[43m)\u001b[49m\n",
      "File \u001b[0;32m~/Library/Python/3.9/lib/python/site-packages/cmdstanpy/model.py:502\u001b[0m, in \u001b[0;36mCmdStanModel.compile\u001b[0;34m(self, force, stanc_options, cpp_options, user_header, override_options, _internal)\u001b[0m\n\u001b[1;32m    499\u001b[0m         \u001b[38;5;28;01melse\u001b[39;00m:\n\u001b[1;32m    500\u001b[0m             \u001b[38;5;28mself\u001b[39m\u001b[38;5;241m.\u001b[39m_compiler_options\u001b[38;5;241m.\u001b[39madd(compiler_options)\n\u001b[0;32m--> 502\u001b[0m \u001b[38;5;28mself\u001b[39m\u001b[38;5;241m.\u001b[39m_exe_file \u001b[38;5;241m=\u001b[39m \u001b[43mcompilation\u001b[49m\u001b[38;5;241;43m.\u001b[39;49m\u001b[43mcompile_stan_file\u001b[49m\u001b[43m(\u001b[49m\n\u001b[1;32m    503\u001b[0m \u001b[43m    \u001b[49m\u001b[38;5;28;43mstr\u001b[39;49m\u001b[43m(\u001b[49m\u001b[38;5;28;43mself\u001b[39;49m\u001b[38;5;241;43m.\u001b[39;49m\u001b[43mstan_file\u001b[49m\u001b[43m)\u001b[49m\u001b[43m,\u001b[49m\n\u001b[1;32m    504\u001b[0m \u001b[43m    \u001b[49m\u001b[43mforce\u001b[49m\u001b[38;5;241;43m=\u001b[39;49m\u001b[43mforce\u001b[49m\u001b[43m,\u001b[49m\n\u001b[1;32m    505\u001b[0m \u001b[43m    \u001b[49m\u001b[43mstanc_options\u001b[49m\u001b[38;5;241;43m=\u001b[39;49m\u001b[38;5;28;43mself\u001b[39;49m\u001b[38;5;241;43m.\u001b[39;49m\u001b[43m_compiler_options\u001b[49m\u001b[38;5;241;43m.\u001b[39;49m\u001b[43mstanc_options\u001b[49m\u001b[43m,\u001b[49m\n\u001b[1;32m    506\u001b[0m \u001b[43m    \u001b[49m\u001b[43mcpp_options\u001b[49m\u001b[38;5;241;43m=\u001b[39;49m\u001b[38;5;28;43mself\u001b[39;49m\u001b[38;5;241;43m.\u001b[39;49m\u001b[43m_compiler_options\u001b[49m\u001b[38;5;241;43m.\u001b[39;49m\u001b[43mcpp_options\u001b[49m\u001b[43m,\u001b[49m\n\u001b[1;32m    507\u001b[0m \u001b[43m    \u001b[49m\u001b[43muser_header\u001b[49m\u001b[38;5;241;43m=\u001b[39;49m\u001b[38;5;28;43mself\u001b[39;49m\u001b[38;5;241;43m.\u001b[39;49m\u001b[43m_compiler_options\u001b[49m\u001b[38;5;241;43m.\u001b[39;49m\u001b[43muser_header\u001b[49m\u001b[43m,\u001b[49m\n\u001b[1;32m    508\u001b[0m \u001b[43m\u001b[49m\u001b[43m)\u001b[49m\n",
      "File \u001b[0;32m~/Library/Python/3.9/lib/python/site-packages/cmdstanpy/compilation.py:408\u001b[0m, in \u001b[0;36mcompile_stan_file\u001b[0;34m(src, force, stanc_options, cpp_options, user_header)\u001b[0m\n\u001b[1;32m    405\u001b[0m exe_time \u001b[38;5;241m=\u001b[39m os\u001b[38;5;241m.\u001b[39mpath\u001b[38;5;241m.\u001b[39mgetmtime(exe_target)\n\u001b[1;32m    406\u001b[0m included_files \u001b[38;5;241m=\u001b[39m [src]\n\u001b[1;32m    407\u001b[0m included_files\u001b[38;5;241m.\u001b[39mextend(\n\u001b[0;32m--> 408\u001b[0m     \u001b[43msrc_info\u001b[49m\u001b[43m(\u001b[49m\u001b[38;5;28;43mstr\u001b[39;49m\u001b[43m(\u001b[49m\u001b[43msrc\u001b[49m\u001b[43m)\u001b[49m\u001b[43m,\u001b[49m\u001b[43m \u001b[49m\u001b[43mcompiler_options\u001b[49m\u001b[43m)\u001b[49m\u001b[38;5;241m.\u001b[39mget(\u001b[38;5;124m'\u001b[39m\u001b[38;5;124mincluded_files\u001b[39m\u001b[38;5;124m'\u001b[39m, [])\n\u001b[1;32m    409\u001b[0m )\n\u001b[1;32m    410\u001b[0m out_of_date \u001b[38;5;241m=\u001b[39m \u001b[38;5;28many\u001b[39m(\n\u001b[1;32m    411\u001b[0m     os\u001b[38;5;241m.\u001b[39mpath\u001b[38;5;241m.\u001b[39mgetmtime(included_file) \u001b[38;5;241m>\u001b[39m exe_time\n\u001b[1;32m    412\u001b[0m     \u001b[38;5;28;01mfor\u001b[39;00m included_file \u001b[38;5;129;01min\u001b[39;00m included_files\n\u001b[1;32m    413\u001b[0m )\n\u001b[1;32m    414\u001b[0m \u001b[38;5;28;01mif\u001b[39;00m \u001b[38;5;129;01mnot\u001b[39;00m out_of_date \u001b[38;5;129;01mand\u001b[39;00m \u001b[38;5;129;01mnot\u001b[39;00m force:\n",
      "File \u001b[0;32m~/Library/Python/3.9/lib/python/site-packages/cmdstanpy/compilation.py:355\u001b[0m, in \u001b[0;36msrc_info\u001b[0;34m(stan_file, compiler_options)\u001b[0m\n\u001b[1;32m    353\u001b[0m proc \u001b[38;5;241m=\u001b[39m subprocess\u001b[38;5;241m.\u001b[39mrun(cmd, capture_output\u001b[38;5;241m=\u001b[39m\u001b[38;5;28;01mTrue\u001b[39;00m, text\u001b[38;5;241m=\u001b[39m\u001b[38;5;28;01mTrue\u001b[39;00m, check\u001b[38;5;241m=\u001b[39m\u001b[38;5;28;01mFalse\u001b[39;00m)\n\u001b[1;32m    354\u001b[0m \u001b[38;5;28;01mif\u001b[39;00m proc\u001b[38;5;241m.\u001b[39mreturncode:\n\u001b[0;32m--> 355\u001b[0m     \u001b[38;5;28;01mraise\u001b[39;00m \u001b[38;5;167;01mValueError\u001b[39;00m(\n\u001b[1;32m    356\u001b[0m         \u001b[38;5;124mf\u001b[39m\u001b[38;5;124m\"\u001b[39m\u001b[38;5;124mFailed to get source info for Stan model \u001b[39m\u001b[38;5;124m\"\u001b[39m\n\u001b[1;32m    357\u001b[0m         \u001b[38;5;124mf\u001b[39m\u001b[38;5;124m\"\u001b[39m\u001b[38;5;124m'\u001b[39m\u001b[38;5;132;01m{\u001b[39;00mstan_file\u001b[38;5;132;01m}\u001b[39;00m\u001b[38;5;124m'\u001b[39m\u001b[38;5;124m. Console:\u001b[39m\u001b[38;5;130;01m\\n\u001b[39;00m\u001b[38;5;132;01m{\u001b[39;00mproc\u001b[38;5;241m.\u001b[39mstderr\u001b[38;5;132;01m}\u001b[39;00m\u001b[38;5;124m\"\u001b[39m\n\u001b[1;32m    358\u001b[0m     )\n\u001b[1;32m    359\u001b[0m result: Dict[\u001b[38;5;28mstr\u001b[39m, Any] \u001b[38;5;241m=\u001b[39m json\u001b[38;5;241m.\u001b[39mloads(proc\u001b[38;5;241m.\u001b[39mstdout)\n\u001b[1;32m    360\u001b[0m \u001b[38;5;28;01mreturn\u001b[39;00m result\n",
      "\u001b[0;31mValueError\u001b[0m: Failed to get source info for Stan model '/Users/adrian/Desktop/chebyshev/gp_cheb_matern.stan'. Console:\n/opt/anaconda3/bin/cmdstan/bin/stanc: unknown option '--info'.\nUsage: stanc [option] ... <model_file.stan>\n  --debug-lex                      For debugging purposes: print the lexer actions\n  --debug-parse                    For debugging purposes: print the parser actions\n  --debug-ast                      For debugging purposes: print the undecorated AST, before semantic checking\n  --debug-decorated-ast            For debugging purposes: print the decorated AST, after semantic checking\n  --debug-generate-data            For debugging purposes: generate a mock dataset to run the model on\n  --debug-mir                      For debugging purposes: print the MIR as an S-expression.\n  --debug-mir-pretty               For debugging purposes: pretty-print the MIR.\n  --debug-optimized-mir            For debugging purposes: print the MIR after it's been optimized. Only has an effect when optimizations are turned on.\n  --debug-optimized-mir-pretty     For debugging purposes: pretty print the MIR after it's been optimized. Only has an effect when optimizations are turned on.\n  --debug-transformed-mir          For debugging purposes: print the MIR after the backend has transformed it.\n  --debug-transformed-mir-pretty   For debugging purposes: pretty print the MIR after the backend has transformed it.\n  --dump-stan-math-signatures Dump out the list of supported type signatures for Stan Math backend.\n  --warn-uninitialized             Emit warnings about uninitialized variables to stderr. Currently an experimental feature.\n  --warn-pedantic                  Emit warnings about common mistakes in Stan programs.\n  --auto-format                    Pretty prints the program to the console\n  --print-canonical                Prints the canonicalized program to the console\n  --version                        Display stanc version number\n  --name                           Take a string to set the model name (default = \"$model_filename_model\")\n  --O Allow                        the compiler to apply all optimizations to the Stan code.\n  --o                              Take the path to an output file for generated C++ code (default = \"$name.hpp\")\n  --print-cpp                      If set, output the generated C++ Stan model class to stdout.\n  --allow-undefined                Do not fail if a function is declared but not defined\n  --allow_undefined                Deprecated. Same as --allow-undefined.\n  --include-paths                  Takes a comma-separated list of directories that may contain a file in an #include directive (default = \"\")\n  --include_paths                  Deprecated. Same as --include-paths.\n  --use-opencl                     If set, try to use matrix_cl signatures.\n  --standalone-functions           If set, the generated C++ will be the standalone functions C++ code.\n  -help                            Display this list of options\n  --help                           Display this list of options\n"
     ]
    }
   ],
   "source": [
    "model = CmdStanModel(stan_file='gp_cheb_matern.stan')"
   ]
  },
  {
   "cell_type": "code",
   "execution_count": 121,
   "metadata": {},
   "outputs": [
    {
     "name": "stderr",
     "output_type": "stream",
     "text": [
      "INFO:cmdstanpy:found newer exe file, not recompiling\n"
     ]
    }
   ],
   "source": [
    "model = CmdStanModel(stan_file='gp_cheb.stan')"
   ]
  },
  {
   "cell_type": "code",
   "execution_count": 122,
   "metadata": {},
   "outputs": [
    {
     "data": {
      "image/png": "[encoded data removed]",
      "text/plain": [
       "<Figure size 600x400 with 1 Axes>"
      ]
     },
     "metadata": {
      "needs_background": "light"
     },
     "output_type": "display_data"
    }
   ],
   "source": [
    "# Generate data for quadratic function with random noise e\n",
    "def generate_data(n):\n",
    "  x = np.random.uniform(-1,1,size=(n,1))\n",
    "  # y = -np.square(x)+2\n",
    "  #y = np.exp(x)*np.sin(np.pi*x) + x\n",
    "\n",
    "  #rbf\n",
    "  y = np.exp(x) + np.exp(x**2)\n",
    "\n",
    "  return (x.ravel(),y.ravel())\n",
    "\n",
    "n = 20\n",
    "x,y = generate_data(n)\n",
    "noise = np.random.normal(0,0.2,n)\n",
    "y = y + noise\n",
    "fig, ax = plt.subplots(dpi=100)\n",
    "\n",
    "x = [0.32080647, 0.26587014, 0.72187268, -0.30351804, 0.2354536, -0.83286119,\n",
    "                  -0.12406531, 0.75046623, 0.17505236, -0.43120703, -0.26736266, 0.41574915,\n",
    "                  -0.13673504, -0.53063669, -0.58944929, 0.71710496, 0.96346998, -0.60412132,\n",
    "                  -0.27278486, -0.94576153]\n",
    "\n",
    "y = [2.76114155, 2.49891946, 3.49267932, 2.19077668, 2.25096868, 2.3522071,\n",
    "            1.84837552, 3.94204235, 2.39402669, 1.86377928, 1.36257218, 2.76642226,\n",
    "            1.76145556, 2.32005902, 2.16071458, 4.01261904, 5.19621366, 1.92165487,\n",
    "            1.70098854, 2.6992103]\n",
    "\n",
    "x_real,y_real = generate_data(10000)\n",
    "x_real, y_real = zip(*sorted(zip(x_real, y_real)))\n",
    "plt.plot(x_real,y_real, color=\"red\", label=\"Real values\", zorder=1)\n",
    "plt.scatter(x,y,label=\"Noisy samples\",edgecolors= \"black\", color='royalblue', zorder=2)\n",
    "plt.xlabel(\"x\")\n",
    "plt.ylabel(\"f(x)\")\n",
    "plt.legend()\n",
    "plt.locator_params(nbins=5, axis='x')\n",
    "plt.locator_params(nbins=5, axis='y')\n",
    "plt.ylim(ymin=0, ymax=6)\n",
    "plt.title(\"Infinitely differentiable function\")\n",
    "plt.savefig(\"img_new/function_rbf.pdf\")\n"
   ]
  },
  {
   "cell_type": "code",
   "execution_count": 12,
   "metadata": {},
   "outputs": [
    {
     "data": {
      "image/png": "[encoded data removed]",
      "text/plain": [
       "<Figure size 640x480 with 1 Axes>"
      ]
     },
     "metadata": {},
     "output_type": "display_data"
    }
   ],
   "source": [
    "# Generate data for quadratic function with random noise e\n",
    "def generate_data(n):\n",
    "  x = np.random.uniform(-1,1,size=(n,1))\n",
    "  # y = -np.square(x)+2\n",
    "  #y = np.exp(x)*np.sin(np.pi*x) + x\n",
    "\n",
    "  #matern\n",
    "  y = np.abs(np.sin(x))**3\n",
    "  return (x.ravel(),y.ravel())\n",
    "\n",
    "n = 20\n",
    "x,y = generate_data(n)\n",
    "noise = np.random.normal(0,0.08,n)\n",
    "y = y + noise\n",
    "fig, ax = plt.subplots(dpi=100)\n",
    "\n",
    "# x = [-0.21558522, -0.1329833, 0.08068001, 0.86035093, 0.76285724, -0.64821812, 0.27034352, 0.6716487, -0.19474706, 0.59998129, 0.86436037, -0.30727194, -0.41886138, 0.21547172, -0.84083455, -0.62773623, 0.93725498, -0.56009593, 0.94870193, 0.02186769]\n",
    "# y = [-0.39898039, -0.34918657, -0.11447868, -0.20011555, 0.44504202, -1.64524772, 0.09360612, 0.33980915, -0.42562159, 0.2208891, 0.15916043, -0.65115996, -0.80375508, 0.15148805, -2.57718936, -1.83607748, 0.13775842, -1.47140522, 0.18098801, 0.21166059]\n",
    "\n",
    "# x = [-0.33381885, -0.79091841,  0.27223306,  0.27779046, -0.51699201,\n",
    "#         0.93058889,  0.1719841 , -0.40513138,  0.93712956, -0.8743655 ,\n",
    "#        -0.52829121,  0.0145146 , -0.64629545,  0.18302552, -0.41170388,\n",
    "#        -0.83360254,  0.95858062, -0.32951421,  0.50523988,  0.51365247]\n",
    "\n",
    "# y = [-0.13376833,  0.39312906, -0.01467015,  0.00642972,  0.12990343,\n",
    "#         0.59090656,  0.00536345, -0.01253035,  0.48871982,  0.53708184,\n",
    "#         0.16548415,  0.08476546,  0.18023822, -0.00469403, -0.01156783,\n",
    "#         0.37974538,  0.43476208,  0.01564344,  0.1378438 ,  0.00657662]\n",
    "\n",
    "x_real,y_real = generate_data(10000)\n",
    "x_real, y_real = zip(*sorted(zip(x_real, y_real)))\n",
    "plt.plot(x_real,y_real, color=\"red\", label=\"Real values\", zorder=1)\n",
    "plt.scatter(x,y,label=\"Noisy samples\",edgecolors= \"black\", color='royalblue', zorder=2)\n",
    "plt.xlabel(\"x\")\n",
    "plt.ylabel(\"f(x)\")\n",
    "plt.legend()\n",
    "plt.locator_params(nbins=5, axis='x')\n",
    "plt.locator_params(nbins=5, axis='y')\n",
    "# plt.ylim(ymin=0, ymax=6)\n",
    "plt.title(\"Twice differentiable function\")\n",
    "plt.savefig(\"img_new/function_mat.pdf\")\n"
   ]
  },
  {
   "cell_type": "code",
   "execution_count": 13,
   "metadata": {},
   "outputs": [
    {
     "data": {
      "text/plain": [
       "array([-0.33381885, -0.79091841,  0.27223306,  0.27779046, -0.51699201,\n",
       "        0.93058889,  0.1719841 , -0.40513138,  0.93712956, -0.8743655 ,\n",
       "       -0.52829121,  0.0145146 , -0.64629545,  0.18302552, -0.41170388,\n",
       "       -0.83360254,  0.95858062, -0.32951421,  0.50523988,  0.51365247])"
      ]
     },
     "execution_count": 13,
     "metadata": {},
     "output_type": "execute_result"
    }
   ],
   "source": [
    "x"
   ]
  },
  {
   "cell_type": "code",
   "execution_count": 14,
   "metadata": {},
   "outputs": [
    {
     "data": {
      "text/plain": [
       "array([-0.13376833,  0.39312906, -0.01467015,  0.00642972,  0.12990343,\n",
       "        0.59090656,  0.00536345, -0.01253035,  0.48871982,  0.53708184,\n",
       "        0.16548415,  0.08476546,  0.18023822, -0.00469403, -0.01156783,\n",
       "        0.37974538,  0.43476208,  0.01564344,  0.1378438 ,  0.00657662])"
      ]
     },
     "execution_count": 14,
     "metadata": {},
     "output_type": "execute_result"
    }
   ],
   "source": [
    "y"
   ]
  },
  {
   "cell_type": "code",
   "execution_count": 15,
   "metadata": {},
   "outputs": [
    {
     "data": {
      "text/plain": [
       "'1.23 * 10⁻⁶'"
      ]
     },
     "execution_count": 15,
     "metadata": {},
     "output_type": "execute_result"
    }
   ],
   "source": [
    "def convert_to_superscript(input_str):\n",
    "    superscript_mapping = {\n",
    "        '0': '⁰',\n",
    "        '1': '¹',\n",
    "        '2': '²',\n",
    "        '3': '³',\n",
    "        '4': '⁴',\n",
    "        '5': '⁵',\n",
    "        '6': '⁶',\n",
    "        '7': '⁷',\n",
    "        '8': '⁸',\n",
    "        '9': '⁹',\n",
    "        '-': '⁻'\n",
    "    }\n",
    "\n",
    "    # Convert each character to superscript\n",
    "    superscript_result = ''.join(superscript_mapping.get(char, char) for char in input_str)\n",
    "\n",
    "    return superscript_result\n",
    "\n",
    "\n",
    "def format_scientific_notation(number):\n",
    "    # Calculate the exponent\n",
    "    exponent = 0\n",
    "    while abs(number) >= 10:\n",
    "        number /= 10\n",
    "        exponent += 1\n",
    "    while abs(number) < 1:\n",
    "        number *= 10\n",
    "        exponent -= 1\n",
    "    exponent = convert_to_superscript(str(exponent))\n",
    "    # Format the result\n",
    "    formatted_result = f\"{number:.2f} * 10{exponent}\"\n",
    "\n",
    "    return formatted_result\n",
    "\n",
    "format_scientific_notation(0.00000123)"
   ]
  },
  {
   "cell_type": "code",
   "execution_count": 119,
   "metadata": {},
   "outputs": [],
   "source": [
    "n=30\n",
    "k = np.arange(n) +1\n",
    "x_nodes = np.cos((np.pi) * (2*k-1)/(2*n))\n",
    "data={'x1':x,'y1':y, 'N1':len(x),'x2':x_nodes,'N2':len(x_nodes)}"
   ]
  },
  {
   "cell_type": "markdown",
   "metadata": {},
   "source": [
    "Loop test"
   ]
  },
  {
   "cell_type": "code",
   "execution_count": 39,
   "metadata": {},
   "outputs": [
    {
     "name": "stderr",
     "output_type": "stream",
     "text": [
      "INFO:cmdstanpy:CmdStan start processing\n"
     ]
    },
    {
     "data": {
      "application/vnd.jupyter.widget-view+json": {
       "model_id": "4f7867c007734e11aed96b6a76bd978d",
       "version_major": 2,
       "version_minor": 0
      },
      "text/plain": [
       "chain 1 |          | 00:00 Status"
      ]
     },
     "metadata": {},
     "output_type": "display_data"
    },
    {
     "data": {
      "application/vnd.jupyter.widget-view+json": {
       "model_id": "808d0849ce354edabd0ad05969f2b03f",
       "version_major": 2,
       "version_minor": 0
      },
      "text/plain": [
       "chain 2 |          | 00:00 Status"
      ]
     },
     "metadata": {},
     "output_type": "display_data"
    },
    {
     "data": {
      "application/vnd.jupyter.widget-view+json": {
       "model_id": "862f5c17f8314bb786d4e2e768b1bdaa",
       "version_major": 2,
       "version_minor": 0
      },
      "text/plain": [
       "chain 3 |          | 00:00 Status"
      ]
     },
     "metadata": {},
     "output_type": "display_data"
    },
    {
     "data": {
      "application/vnd.jupyter.widget-view+json": {
       "model_id": "ee13ecb38f2341f9a794ee6b634754a3",
       "version_major": 2,
       "version_minor": 0
      },
      "text/plain": [
       "chain 4 |          | 00:00 Status"
      ]
     },
     "metadata": {},
     "output_type": "display_data"
    },
    {
     "name": "stdout",
     "output_type": "stream",
     "text": [
      "                                                                                                                                                                                                                                                                                                                                "
     ]
    },
    {
     "name": "stderr",
     "output_type": "stream",
     "text": [
      "INFO:cmdstanpy:CmdStan done processing.\n"
     ]
    },
    {
     "name": "stdout",
     "output_type": "stream",
     "text": [
      "\n"
     ]
    },
    {
     "name": "stderr",
     "output_type": "stream",
     "text": [
      "INFO:cmdstanpy:CmdStan start processing\n"
     ]
    },
    {
     "name": "stdout",
     "output_type": "stream",
     "text": [
      "N =  10\n",
      "Elapsed 0.16076563333333332 minutes\n"
     ]
    },
    {
     "data": {
      "application/vnd.jupyter.widget-view+json": {
       "model_id": "e1bf6f9b0c7046d79c50b647a461386b",
       "version_major": 2,
       "version_minor": 0
      },
      "text/plain": [
       "chain 1 |          | 00:00 Status"
      ]
     },
     "metadata": {},
     "output_type": "display_data"
    },
    {
     "data": {
      "application/vnd.jupyter.widget-view+json": {
       "model_id": "3835aaceea7e4db29a4e6ab5b170b1ca",
       "version_major": 2,
       "version_minor": 0
      },
      "text/plain": [
       "chain 2 |          | 00:00 Status"
      ]
     },
     "metadata": {},
     "output_type": "display_data"
    },
    {
     "data": {
      "application/vnd.jupyter.widget-view+json": {
       "model_id": "cd99e07071804fb78bfd6186e4cb12fc",
       "version_major": 2,
       "version_minor": 0
      },
      "text/plain": [
       "chain 3 |          | 00:00 Status"
      ]
     },
     "metadata": {},
     "output_type": "display_data"
    },
    {
     "data": {
      "application/vnd.jupyter.widget-view+json": {
       "model_id": "88e5002621b0463495750f3db8c61264",
       "version_major": 2,
       "version_minor": 0
      },
      "text/plain": [
       "chain 4 |          | 00:00 Status"
      ]
     },
     "metadata": {},
     "output_type": "display_data"
    },
    {
     "name": "stdout",
     "output_type": "stream",
     "text": [
      "                                                                                                                                                                                                                                                                                                                                "
     ]
    },
    {
     "name": "stderr",
     "output_type": "stream",
     "text": [
      "INFO:cmdstanpy:CmdStan done processing.\n"
     ]
    },
    {
     "name": "stdout",
     "output_type": "stream",
     "text": [
      "\n"
     ]
    },
    {
     "name": "stderr",
     "output_type": "stream",
     "text": [
      "INFO:cmdstanpy:CmdStan start processing\n"
     ]
    },
    {
     "name": "stdout",
     "output_type": "stream",
     "text": [
      "N =  20\n",
      "Elapsed 0.26237668333333336 minutes\n"
     ]
    },
    {
     "data": {
      "application/vnd.jupyter.widget-view+json": {
       "model_id": "b50f4a4ea33a4e448ba4841ba62261d1",
       "version_major": 2,
       "version_minor": 0
      },
      "text/plain": [
       "chain 1 |          | 00:00 Status"
      ]
     },
     "metadata": {},
     "output_type": "display_data"
    },
    {
     "data": {
      "application/vnd.jupyter.widget-view+json": {
       "model_id": "5c65ee39a1d04929aee3db6f9484eefc",
       "version_major": 2,
       "version_minor": 0
      },
      "text/plain": [
       "chain 2 |          | 00:00 Status"
      ]
     },
     "metadata": {},
     "output_type": "display_data"
    },
    {
     "data": {
      "application/vnd.jupyter.widget-view+json": {
       "model_id": "6eeb0f29f4fc4799aeddd4729d6caf7b",
       "version_major": 2,
       "version_minor": 0
      },
      "text/plain": [
       "chain 3 |          | 00:00 Status"
      ]
     },
     "metadata": {},
     "output_type": "display_data"
    },
    {
     "data": {
      "application/vnd.jupyter.widget-view+json": {
       "model_id": "c620d61554454c8a9194a652214a1f11",
       "version_major": 2,
       "version_minor": 0
      },
      "text/plain": [
       "chain 4 |          | 00:00 Status"
      ]
     },
     "metadata": {},
     "output_type": "display_data"
    },
    {
     "name": "stdout",
     "output_type": "stream",
     "text": [
      "                                                                                                                                                                                                                                                                                                                                "
     ]
    },
    {
     "name": "stderr",
     "output_type": "stream",
     "text": [
      "INFO:cmdstanpy:CmdStan done processing.\n"
     ]
    },
    {
     "name": "stdout",
     "output_type": "stream",
     "text": [
      "\n"
     ]
    },
    {
     "name": "stderr",
     "output_type": "stream",
     "text": [
      "INFO:cmdstanpy:CmdStan start processing\n"
     ]
    },
    {
     "name": "stdout",
     "output_type": "stream",
     "text": [
      "N =  30\n",
      "Elapsed 0.4155873666666666 minutes\n"
     ]
    },
    {
     "data": {
      "application/vnd.jupyter.widget-view+json": {
       "model_id": "a8c472b5baf8435c86d852643e66175b",
       "version_major": 2,
       "version_minor": 0
      },
      "text/plain": [
       "chain 1 |          | 00:00 Status"
      ]
     },
     "metadata": {},
     "output_type": "display_data"
    },
    {
     "data": {
      "application/vnd.jupyter.widget-view+json": {
       "model_id": "b350e03b082e4de5a53c1488bfde26f8",
       "version_major": 2,
       "version_minor": 0
      },
      "text/plain": [
       "chain 2 |          | 00:00 Status"
      ]
     },
     "metadata": {},
     "output_type": "display_data"
    },
    {
     "data": {
      "application/vnd.jupyter.widget-view+json": {
       "model_id": "08f9fd523e9a45299ad4859a0d0bf56b",
       "version_major": 2,
       "version_minor": 0
      },
      "text/plain": [
       "chain 3 |          | 00:00 Status"
      ]
     },
     "metadata": {},
     "output_type": "display_data"
    },
    {
     "data": {
      "application/vnd.jupyter.widget-view+json": {
       "model_id": "23fe7d2b64c440209eac8d21702559fa",
       "version_major": 2,
       "version_minor": 0
      },
      "text/plain": [
       "chain 4 |          | 00:00 Status"
      ]
     },
     "metadata": {},
     "output_type": "display_data"
    },
    {
     "name": "stdout",
     "output_type": "stream",
     "text": [
      "                                                                                                                                                                                                                                                                                                                                "
     ]
    },
    {
     "name": "stderr",
     "output_type": "stream",
     "text": [
      "INFO:cmdstanpy:CmdStan done processing.\n"
     ]
    },
    {
     "name": "stdout",
     "output_type": "stream",
     "text": [
      "\n"
     ]
    },
    {
     "name": "stderr",
     "output_type": "stream",
     "text": [
      "INFO:cmdstanpy:CmdStan start processing\n"
     ]
    },
    {
     "name": "stdout",
     "output_type": "stream",
     "text": [
      "N =  50\n",
      "Elapsed 0.7918988166666666 minutes\n"
     ]
    },
    {
     "data": {
      "application/vnd.jupyter.widget-view+json": {
       "model_id": "2e36c427e0b4479997b04d02b47416f9",
       "version_major": 2,
       "version_minor": 0
      },
      "text/plain": [
       "chain 1 |          | 00:00 Status"
      ]
     },
     "metadata": {},
     "output_type": "display_data"
    },
    {
     "data": {
      "application/vnd.jupyter.widget-view+json": {
       "model_id": "f8d6a3fccc794060b8bd56c726d2d2d7",
       "version_major": 2,
       "version_minor": 0
      },
      "text/plain": [
       "chain 2 |          | 00:00 Status"
      ]
     },
     "metadata": {},
     "output_type": "display_data"
    },
    {
     "data": {
      "application/vnd.jupyter.widget-view+json": {
       "model_id": "7fb0c4a62fb2486496b2dc5b7d065343",
       "version_major": 2,
       "version_minor": 0
      },
      "text/plain": [
       "chain 3 |          | 00:00 Status"
      ]
     },
     "metadata": {},
     "output_type": "display_data"
    },
    {
     "data": {
      "application/vnd.jupyter.widget-view+json": {
       "model_id": "f7db34dc5aea4a1295e3067bfaa35509",
       "version_major": 2,
       "version_minor": 0
      },
      "text/plain": [
       "chain 4 |          | 00:00 Status"
      ]
     },
     "metadata": {},
     "output_type": "display_data"
    },
    {
     "name": "stdout",
     "output_type": "stream",
     "text": [
      "                                                                                                                                                                                                                                                                                                                                "
     ]
    },
    {
     "name": "stderr",
     "output_type": "stream",
     "text": [
      "INFO:cmdstanpy:CmdStan done processing.\n"
     ]
    },
    {
     "name": "stdout",
     "output_type": "stream",
     "text": [
      "\n"
     ]
    },
    {
     "name": "stderr",
     "output_type": "stream",
     "text": [
      "INFO:cmdstanpy:CmdStan start processing\n"
     ]
    },
    {
     "name": "stdout",
     "output_type": "stream",
     "text": [
      "N =  70\n",
      "Elapsed 1.3521188166666667 minutes\n"
     ]
    },
    {
     "data": {
      "application/vnd.jupyter.widget-view+json": {
       "model_id": "556fb790c6354c548bbcc89f05bd2bfe",
       "version_major": 2,
       "version_minor": 0
      },
      "text/plain": [
       "chain 1 |          | 00:00 Status"
      ]
     },
     "metadata": {},
     "output_type": "display_data"
    },
    {
     "data": {
      "application/vnd.jupyter.widget-view+json": {
       "model_id": "d1db451b23a549218906ddb94e59da1b",
       "version_major": 2,
       "version_minor": 0
      },
      "text/plain": [
       "chain 2 |          | 00:00 Status"
      ]
     },
     "metadata": {},
     "output_type": "display_data"
    },
    {
     "data": {
      "application/vnd.jupyter.widget-view+json": {
       "model_id": "60359ecf5c7744f481c0fb61eef66db3",
       "version_major": 2,
       "version_minor": 0
      },
      "text/plain": [
       "chain 3 |          | 00:00 Status"
      ]
     },
     "metadata": {},
     "output_type": "display_data"
    },
    {
     "data": {
      "application/vnd.jupyter.widget-view+json": {
       "model_id": "3e97621d4c554c82b1f7583450380598",
       "version_major": 2,
       "version_minor": 0
      },
      "text/plain": [
       "chain 4 |          | 00:00 Status"
      ]
     },
     "metadata": {},
     "output_type": "display_data"
    },
    {
     "name": "stdout",
     "output_type": "stream",
     "text": [
      "                                                                                                                                                                                                                                                                                                                                "
     ]
    },
    {
     "name": "stderr",
     "output_type": "stream",
     "text": [
      "INFO:cmdstanpy:CmdStan done processing.\n"
     ]
    },
    {
     "name": "stdout",
     "output_type": "stream",
     "text": [
      "\n"
     ]
    },
    {
     "name": "stderr",
     "output_type": "stream",
     "text": [
      "INFO:cmdstanpy:CmdStan start processing\n"
     ]
    },
    {
     "name": "stdout",
     "output_type": "stream",
     "text": [
      "N =  100\n",
      "Elapsed 2.5240695833333335 minutes\n"
     ]
    },
    {
     "data": {
      "application/vnd.jupyter.widget-view+json": {
       "model_id": "4da3229973c44a15a1f8ccbb84ed7ca2",
       "version_major": 2,
       "version_minor": 0
      },
      "text/plain": [
       "chain 1 |          | 00:00 Status"
      ]
     },
     "metadata": {},
     "output_type": "display_data"
    },
    {
     "data": {
      "application/vnd.jupyter.widget-view+json": {
       "model_id": "735f27dbfb0e40fab5d5a52eeecdf6f2",
       "version_major": 2,
       "version_minor": 0
      },
      "text/plain": [
       "chain 2 |          | 00:00 Status"
      ]
     },
     "metadata": {},
     "output_type": "display_data"
    },
    {
     "data": {
      "application/vnd.jupyter.widget-view+json": {
       "model_id": "6a8e2537001340c09a0e3ab8f4ef1224",
       "version_major": 2,
       "version_minor": 0
      },
      "text/plain": [
       "chain 3 |          | 00:00 Status"
      ]
     },
     "metadata": {},
     "output_type": "display_data"
    },
    {
     "data": {
      "application/vnd.jupyter.widget-view+json": {
       "model_id": "157dad3fa82e4f578267a793752029ab",
       "version_major": 2,
       "version_minor": 0
      },
      "text/plain": [
       "chain 4 |          | 00:00 Status"
      ]
     },
     "metadata": {},
     "output_type": "display_data"
    },
    {
     "name": "stdout",
     "output_type": "stream",
     "text": [
      "                                                                                                                                                                                                                                                                                                                                "
     ]
    },
    {
     "name": "stderr",
     "output_type": "stream",
     "text": [
      "INFO:cmdstanpy:CmdStan done processing.\n"
     ]
    },
    {
     "name": "stdout",
     "output_type": "stream",
     "text": [
      "\n"
     ]
    },
    {
     "name": "stderr",
     "output_type": "stream",
     "text": [
      "INFO:cmdstanpy:CmdStan start processing\n"
     ]
    },
    {
     "name": "stdout",
     "output_type": "stream",
     "text": [
      "N =  150\n",
      "Elapsed 5.141280816666667 minutes\n"
     ]
    },
    {
     "data": {
      "application/vnd.jupyter.widget-view+json": {
       "model_id": "3fbc6c6d64af4330b7faee4dc1c30160",
       "version_major": 2,
       "version_minor": 0
      },
      "text/plain": [
       "chain 1 |          | 00:00 Status"
      ]
     },
     "metadata": {},
     "output_type": "display_data"
    },
    {
     "data": {
      "application/vnd.jupyter.widget-view+json": {
       "model_id": "edcb2a7e5afa49a4b58a7d9c1d60b6b9",
       "version_major": 2,
       "version_minor": 0
      },
      "text/plain": [
       "chain 2 |          | 00:00 Status"
      ]
     },
     "metadata": {},
     "output_type": "display_data"
    },
    {
     "data": {
      "application/vnd.jupyter.widget-view+json": {
       "model_id": "e0a90f9f5989488b99c86c9660f8d257",
       "version_major": 2,
       "version_minor": 0
      },
      "text/plain": [
       "chain 3 |          | 00:00 Status"
      ]
     },
     "metadata": {},
     "output_type": "display_data"
    },
    {
     "data": {
      "application/vnd.jupyter.widget-view+json": {
       "model_id": "c9f2fdca855e46229bc630f896110929",
       "version_major": 2,
       "version_minor": 0
      },
      "text/plain": [
       "chain 4 |          | 00:00 Status"
      ]
     },
     "metadata": {},
     "output_type": "display_data"
    },
    {
     "ename": "KeyboardInterrupt",
     "evalue": "",
     "output_type": "error",
     "traceback": [
      "\u001b[0;31m---------------------------------------------------------------------------\u001b[0m",
      "\u001b[0;31mKeyboardInterrupt\u001b[0m                         Traceback (most recent call last)",
      "\u001b[1;32m/Users/adrian/Desktop/chebyshev/cheb.ipynb Komórka 12\u001b[0m line \u001b[0;36m<cell line: 7>\u001b[0;34m()\u001b[0m\n\u001b[1;32m     <a href='vscode-notebook-cell:/Users/adrian/Desktop/chebyshev/cheb.ipynb#X12sZmlsZQ%3D%3D?line=10'>11</a>\u001b[0m x_nodes \u001b[39m=\u001b[39m np\u001b[39m.\u001b[39mcos((np\u001b[39m.\u001b[39mpi) \u001b[39m*\u001b[39m (\u001b[39m2\u001b[39m\u001b[39m*\u001b[39mk\u001b[39m-\u001b[39m\u001b[39m1\u001b[39m)\u001b[39m/\u001b[39m(\u001b[39m2\u001b[39m\u001b[39m*\u001b[39mn))\n\u001b[1;32m     <a href='vscode-notebook-cell:/Users/adrian/Desktop/chebyshev/cheb.ipynb#X12sZmlsZQ%3D%3D?line=11'>12</a>\u001b[0m data\u001b[39m=\u001b[39m{\u001b[39m'\u001b[39m\u001b[39mx1\u001b[39m\u001b[39m'\u001b[39m:x,\u001b[39m'\u001b[39m\u001b[39my1\u001b[39m\u001b[39m'\u001b[39m:y, \u001b[39m'\u001b[39m\u001b[39mN1\u001b[39m\u001b[39m'\u001b[39m:\u001b[39mlen\u001b[39m(x),\u001b[39m'\u001b[39m\u001b[39mx2\u001b[39m\u001b[39m'\u001b[39m:x_nodes,\u001b[39m'\u001b[39m\u001b[39mN2\u001b[39m\u001b[39m'\u001b[39m:\u001b[39mlen\u001b[39m(x_nodes)}\n\u001b[0;32m---> <a href='vscode-notebook-cell:/Users/adrian/Desktop/chebyshev/cheb.ipynb#X12sZmlsZQ%3D%3D?line=12'>13</a>\u001b[0m result \u001b[39m=\u001b[39m model\u001b[39m.\u001b[39;49msample(data\u001b[39m=\u001b[39;49mdata, chains \u001b[39m=\u001b[39;49m \u001b[39m4\u001b[39;49m)\n\u001b[1;32m     <a href='vscode-notebook-cell:/Users/adrian/Desktop/chebyshev/cheb.ipynb#X12sZmlsZQ%3D%3D?line=13'>14</a>\u001b[0m \u001b[39m# result.summary()\u001b[39;00m\n\u001b[1;32m     <a href='vscode-notebook-cell:/Users/adrian/Desktop/chebyshev/cheb.ipynb#X12sZmlsZQ%3D%3D?line=14'>15</a>\u001b[0m temp \u001b[39m=\u001b[39m result\u001b[39m.\u001b[39msummary()\u001b[39m.\u001b[39mloc[\u001b[39m'\u001b[39m\u001b[39my2[1]\u001b[39m\u001b[39m'\u001b[39m:,\u001b[39m'\u001b[39m\u001b[39mMean\u001b[39m\u001b[39m'\u001b[39m:\u001b[39m'\u001b[39m\u001b[39mMean\u001b[39m\u001b[39m'\u001b[39m]\n",
      "File \u001b[0;32m/opt/anaconda3/lib/python3.9/site-packages/cmdstanpy/model.py:1037\u001b[0m, in \u001b[0;36mCmdStanModel.sample\u001b[0;34m(self, data, chains, parallel_chains, threads_per_chain, seed, chain_ids, inits, iter_warmup, iter_sampling, save_warmup, thin, max_treedepth, metric, step_size, adapt_engaged, adapt_delta, adapt_init_phase, adapt_metric_window, adapt_step_size, fixed_param, output_dir, sig_figs, save_latent_dynamics, save_profile, show_progress, show_console, refresh, time_fmt, force_one_process_per_chain)\u001b[0m\n\u001b[1;32m   1035\u001b[0m \u001b[39mwith\u001b[39;00m ThreadPoolExecutor(max_workers\u001b[39m=\u001b[39mparallel_procs) \u001b[39mas\u001b[39;00m executor:\n\u001b[1;32m   1036\u001b[0m     \u001b[39mfor\u001b[39;00m i \u001b[39min\u001b[39;00m \u001b[39mrange\u001b[39m(runset\u001b[39m.\u001b[39mnum_procs):\n\u001b[0;32m-> 1037\u001b[0m         executor\u001b[39m.\u001b[39msubmit(\n\u001b[1;32m   1038\u001b[0m             \u001b[39mself\u001b[39m\u001b[39m.\u001b[39m_run_cmdstan,\n\u001b[1;32m   1039\u001b[0m             runset\u001b[39m=\u001b[39mrunset,\n\u001b[1;32m   1040\u001b[0m             idx\u001b[39m=\u001b[39mi,\n\u001b[1;32m   1041\u001b[0m             show_progress\u001b[39m=\u001b[39mshow_progress,\n\u001b[1;32m   1042\u001b[0m             show_console\u001b[39m=\u001b[39mshow_console,\n\u001b[1;32m   1043\u001b[0m             progress_hook\u001b[39m=\u001b[39mprogress_hook,\n\u001b[1;32m   1044\u001b[0m         )\n\u001b[1;32m   1045\u001b[0m \u001b[39mif\u001b[39;00m show_progress \u001b[39mand\u001b[39;00m progress_hook \u001b[39mis\u001b[39;00m \u001b[39mnot\u001b[39;00m \u001b[39mNone\u001b[39;00m:\n\u001b[1;32m   1046\u001b[0m     progress_hook(\u001b[39m\"\u001b[39m\u001b[39mDone\u001b[39m\u001b[39m\"\u001b[39m, \u001b[39m-\u001b[39m\u001b[39m1\u001b[39m)  \u001b[39m# -1 == all chains finished\u001b[39;00m\n",
      "File \u001b[0;32m/opt/anaconda3/lib/python3.9/concurrent/futures/_base.py:637\u001b[0m, in \u001b[0;36mExecutor.__exit__\u001b[0;34m(self, exc_type, exc_val, exc_tb)\u001b[0m\n\u001b[1;32m    636\u001b[0m \u001b[39mdef\u001b[39;00m \u001b[39m__exit__\u001b[39m(\u001b[39mself\u001b[39m, exc_type, exc_val, exc_tb):\n\u001b[0;32m--> 637\u001b[0m     \u001b[39mself\u001b[39;49m\u001b[39m.\u001b[39;49mshutdown(wait\u001b[39m=\u001b[39;49m\u001b[39mTrue\u001b[39;49;00m)\n\u001b[1;32m    638\u001b[0m     \u001b[39mreturn\u001b[39;00m \u001b[39mFalse\u001b[39;00m\n",
      "File \u001b[0;32m/opt/anaconda3/lib/python3.9/concurrent/futures/thread.py:235\u001b[0m, in \u001b[0;36mThreadPoolExecutor.shutdown\u001b[0;34m(self, wait, cancel_futures)\u001b[0m\n\u001b[1;32m    233\u001b[0m \u001b[39mif\u001b[39;00m wait:\n\u001b[1;32m    234\u001b[0m     \u001b[39mfor\u001b[39;00m t \u001b[39min\u001b[39;00m \u001b[39mself\u001b[39m\u001b[39m.\u001b[39m_threads:\n\u001b[0;32m--> 235\u001b[0m         t\u001b[39m.\u001b[39;49mjoin()\n",
      "File \u001b[0;32m/opt/anaconda3/lib/python3.9/threading.py:1053\u001b[0m, in \u001b[0;36mThread.join\u001b[0;34m(self, timeout)\u001b[0m\n\u001b[1;32m   1050\u001b[0m     \u001b[39mraise\u001b[39;00m \u001b[39mRuntimeError\u001b[39;00m(\u001b[39m\"\u001b[39m\u001b[39mcannot join current thread\u001b[39m\u001b[39m\"\u001b[39m)\n\u001b[1;32m   1052\u001b[0m \u001b[39mif\u001b[39;00m timeout \u001b[39mis\u001b[39;00m \u001b[39mNone\u001b[39;00m:\n\u001b[0;32m-> 1053\u001b[0m     \u001b[39mself\u001b[39;49m\u001b[39m.\u001b[39;49m_wait_for_tstate_lock()\n\u001b[1;32m   1054\u001b[0m \u001b[39melse\u001b[39;00m:\n\u001b[1;32m   1055\u001b[0m     \u001b[39m# the behavior of a negative timeout isn't documented, but\u001b[39;00m\n\u001b[1;32m   1056\u001b[0m     \u001b[39m# historically .join(timeout=x) for x<0 has acted as if timeout=0\u001b[39;00m\n\u001b[1;32m   1057\u001b[0m     \u001b[39mself\u001b[39m\u001b[39m.\u001b[39m_wait_for_tstate_lock(timeout\u001b[39m=\u001b[39m\u001b[39mmax\u001b[39m(timeout, \u001b[39m0\u001b[39m))\n",
      "File \u001b[0;32m/opt/anaconda3/lib/python3.9/threading.py:1073\u001b[0m, in \u001b[0;36mThread._wait_for_tstate_lock\u001b[0;34m(self, block, timeout)\u001b[0m\n\u001b[1;32m   1070\u001b[0m     \u001b[39mreturn\u001b[39;00m\n\u001b[1;32m   1072\u001b[0m \u001b[39mtry\u001b[39;00m:\n\u001b[0;32m-> 1073\u001b[0m     \u001b[39mif\u001b[39;00m lock\u001b[39m.\u001b[39;49macquire(block, timeout):\n\u001b[1;32m   1074\u001b[0m         lock\u001b[39m.\u001b[39mrelease()\n\u001b[1;32m   1075\u001b[0m         \u001b[39mself\u001b[39m\u001b[39m.\u001b[39m_stop()\n",
      "\u001b[0;31mKeyboardInterrupt\u001b[0m: "
     ]
    }
   ],
   "source": [
    "from datetime import datetime\n",
    "import numpy as np\n",
    "import matplotlib.pyplot as plt\n",
    "from matplotlib.ticker import ScalarFormatter\n",
    "\n",
    "loop_n = [10, 20, 30, 50, 70, 100, 150, 200]#, 300, 500] #, 1000]\n",
    "for n in loop_n:\n",
    "    start = datetime.now()\n",
    "    \n",
    "    k = np.arange(n) +1\n",
    "    x_nodes = np.cos((np.pi) * (2*k-1)/(2*n))\n",
    "    data={'x1':x,'y1':y, 'N1':len(x),'x2':x_nodes,'N2':len(x_nodes)}\n",
    "    result = model.sample(data=data, chains = 4)\n",
    "    # result.summary()\n",
    "    temp = result.summary().loc['y2[1]':,'Mean':'Mean']\n",
    "    temp2 = result.summary().loc['y2[1]':,'StdDev':'StdDev']\n",
    "\n",
    "    # plt.figure(figsize=(6, 4))\n",
    "    # plt.scatter(x_nodes,temp['Mean'],color=\"royalblue\",linewidth=0.1,label=\"Mean value\",  zorder = 1, edgecolors= \"black\")\n",
    "    # plt.errorbar(x_nodes,temp['Mean'],temp2['StdDev']*1.95,alpha=0.25,ls='none',color=\"cornflowerblue\", label = \"95% confidence interval\",  zorder = 0)\n",
    "    # plt.title(\"Order N = {}\".format(n))\n",
    "    # plt.xlabel(\"x\")\n",
    "    # plt.ylabel(\"f(x)\")\n",
    "    # plt.locator_params(nbins=5, axis='x')\n",
    "    # plt.locator_params(nbins=5, axis='y')\n",
    "    # # plt.ylim(ymin=0, ymax=6)\n",
    "    # plt.legend()\n",
    "\n",
    "    # name = \"img_new/mat/distribution-\"+str(n)+\".pdf\"\n",
    "    # plt.savefig(name)\n",
    "\n",
    "    coef_matrix = result.stan_variable('y2')\n",
    "    for count,value in enumerate(coef_matrix):\n",
    "        extended_vector = np.append(np.flip(value),value[1:-1],0)\n",
    "        fourier_coeffs = np.real(np.fft.fft(extended_vector))\n",
    "        cheb_coef = fourier_coeffs[:n]/n\n",
    "        cheb_coef[0] = cheb_coef[0]/2\n",
    "        cheb_coef[-1] = cheb_coef[-1]/2\n",
    "        coef_matrix[count] = cheb_coef\n",
    "    np.set_printoptions(suppress=True)\n",
    "    coef_matrix[0]\n",
    "\n",
    "    final_result = np.mean(coef_matrix,axis=0)\n",
    "\n",
    "    test = abs(final_result)\n",
    "    x_plt = np.arange(0, n) \n",
    "    x_plt = x_plt + 1\n",
    "    # plt.figure(figsize=(6, 4))\n",
    "    # plt.scatter(x_plt,test,color='royalblue',label = \"Coefficient values\")\n",
    "    # plt.yscale('log')\n",
    "    # plt.title(\"Order N = {}\".format(n))\n",
    "    # plt.ylabel(\"Value\")\n",
    "    # plt.xlabel(\"Coefficient order\")\n",
    "    # xticks = plt.xticks()\n",
    "\n",
    "    # plt.yticks([max(test), min(test)], labels=[\"{:.2E}\".format(max(test)), \"{:.1E}\".format(min(test))])\n",
    "    # plt.xticks([min(x_plt), max(x_plt)], labels=[min(x_plt), max(x_plt)])\n",
    "    # plt.legend()\n",
    "\n",
    "    # name = \"img_new/mat/order-\"+str(n)+\".pdf\"\n",
    "    # plt.savefig(name, bbox_inches=\"tight\")\n",
    "    \n",
    "    end = datetime.now()\n",
    "    print(\"N = \", n)\n",
    "    print(\"Elapsed\", (end - start).total_seconds()/60, \"minutes\")\n",
    "\n",
    "    # plt.axhline(y = 0.0005, color = 'r', linestyle = '-',alpha=0.5)\n",
    "\n",
    " "
   ]
  },
  {
   "cell_type": "code",
   "execution_count": 123,
   "metadata": {},
   "outputs": [
    {
     "name": "stderr",
     "output_type": "stream",
     "text": [
      "INFO:cmdstanpy:CmdStan start processing\n"
     ]
    },
    {
     "data": {
      "application/vnd.jupyter.widget-view+json": {
       "model_id": "6479a22d666544faa4f0d90a9ab5c409",
       "version_major": 2,
       "version_minor": 0
      },
      "text/plain": [
       "chain 1 |          | 00:00 Status"
      ]
     },
     "metadata": {},
     "output_type": "display_data"
    },
    {
     "data": {
      "application/vnd.jupyter.widget-view+json": {
       "model_id": "5fd9219af76c425c8943c5d4028f0539",
       "version_major": 2,
       "version_minor": 0
      },
      "text/plain": [
       "chain 2 |          | 00:00 Status"
      ]
     },
     "metadata": {},
     "output_type": "display_data"
    },
    {
     "data": {
      "application/vnd.jupyter.widget-view+json": {
       "model_id": "f43e75c281c148dbbeb31afbdc24e77b",
       "version_major": 2,
       "version_minor": 0
      },
      "text/plain": [
       "chain 3 |          | 00:00 Status"
      ]
     },
     "metadata": {},
     "output_type": "display_data"
    },
    {
     "data": {
      "application/vnd.jupyter.widget-view+json": {
       "model_id": "bc39baec807146578b870e3d920da6ae",
       "version_major": 2,
       "version_minor": 0
      },
      "text/plain": [
       "chain 4 |          | 00:00 Status"
      ]
     },
     "metadata": {},
     "output_type": "display_data"
    },
    {
     "name": "stdout",
     "output_type": "stream",
     "text": [
      "                                                                                                                                                                                                                                                                                                                                "
     ]
    },
    {
     "name": "stderr",
     "output_type": "stream",
     "text": [
      "INFO:cmdstanpy:CmdStan done processing.\n"
     ]
    },
    {
     "name": "stdout",
     "output_type": "stream",
     "text": [
      "\n"
     ]
    },
    {
     "name": "stderr",
     "output_type": "stream",
     "text": [
      "INFO:cmdstanpy:CmdStan start processing\n"
     ]
    },
    {
     "name": "stdout",
     "output_type": "stream",
     "text": [
      "N =  10\n",
      "Elapsed 0.08919416666666667 minutes\n"
     ]
    },
    {
     "data": {
      "application/vnd.jupyter.widget-view+json": {
       "model_id": "b3790233680e4d5d8d0aa0133acad770",
       "version_major": 2,
       "version_minor": 0
      },
      "text/plain": [
       "chain 1 |          | 00:00 Status"
      ]
     },
     "metadata": {},
     "output_type": "display_data"
    },
    {
     "data": {
      "application/vnd.jupyter.widget-view+json": {
       "model_id": "f2d46b70c74e4eb382b1a0ac46f1b3cf",
       "version_major": 2,
       "version_minor": 0
      },
      "text/plain": [
       "chain 2 |          | 00:00 Status"
      ]
     },
     "metadata": {},
     "output_type": "display_data"
    },
    {
     "data": {
      "application/vnd.jupyter.widget-view+json": {
       "model_id": "42a61fd723544cea98872cdb9f5576de",
       "version_major": 2,
       "version_minor": 0
      },
      "text/plain": [
       "chain 3 |          | 00:00 Status"
      ]
     },
     "metadata": {},
     "output_type": "display_data"
    },
    {
     "data": {
      "application/vnd.jupyter.widget-view+json": {
       "model_id": "0607d97aaf0b42b0b2a9ab727b4ace4a",
       "version_major": 2,
       "version_minor": 0
      },
      "text/plain": [
       "chain 4 |          | 00:00 Status"
      ]
     },
     "metadata": {},
     "output_type": "display_data"
    },
    {
     "name": "stdout",
     "output_type": "stream",
     "text": [
      "                                                                                                                                                                                                                                                                                                                                "
     ]
    },
    {
     "name": "stderr",
     "output_type": "stream",
     "text": [
      "INFO:cmdstanpy:CmdStan done processing.\n"
     ]
    },
    {
     "name": "stdout",
     "output_type": "stream",
     "text": [
      "\n"
     ]
    },
    {
     "name": "stderr",
     "output_type": "stream",
     "text": [
      "INFO:cmdstanpy:CmdStan start processing\n"
     ]
    },
    {
     "name": "stdout",
     "output_type": "stream",
     "text": [
      "N =  30\n",
      "Elapsed 0.2165771 minutes\n"
     ]
    },
    {
     "data": {
      "application/vnd.jupyter.widget-view+json": {
       "model_id": "dfe2b40b74724d9c8622cc58a1a20d56",
       "version_major": 2,
       "version_minor": 0
      },
      "text/plain": [
       "chain 1 |          | 00:00 Status"
      ]
     },
     "metadata": {},
     "output_type": "display_data"
    },
    {
     "data": {
      "application/vnd.jupyter.widget-view+json": {
       "model_id": "2eb38f17affc4313a144cb201681b42a",
       "version_major": 2,
       "version_minor": 0
      },
      "text/plain": [
       "chain 2 |          | 00:00 Status"
      ]
     },
     "metadata": {},
     "output_type": "display_data"
    },
    {
     "data": {
      "application/vnd.jupyter.widget-view+json": {
       "model_id": "4c6d1fc4ebd34e278bcbbbcef956485d",
       "version_major": 2,
       "version_minor": 0
      },
      "text/plain": [
       "chain 3 |          | 00:00 Status"
      ]
     },
     "metadata": {},
     "output_type": "display_data"
    },
    {
     "data": {
      "application/vnd.jupyter.widget-view+json": {
       "model_id": "ce4c8bc1de064448bc9c195426624f0d",
       "version_major": 2,
       "version_minor": 0
      },
      "text/plain": [
       "chain 4 |          | 00:00 Status"
      ]
     },
     "metadata": {},
     "output_type": "display_data"
    },
    {
     "name": "stdout",
     "output_type": "stream",
     "text": [
      "                                                                                                                                                                                                                                                                                                                                "
     ]
    },
    {
     "name": "stderr",
     "output_type": "stream",
     "text": [
      "INFO:cmdstanpy:CmdStan done processing.\n"
     ]
    },
    {
     "name": "stdout",
     "output_type": "stream",
     "text": [
      "\n"
     ]
    },
    {
     "name": "stderr",
     "output_type": "stream",
     "text": [
      "INFO:cmdstanpy:CmdStan start processing\n"
     ]
    },
    {
     "name": "stdout",
     "output_type": "stream",
     "text": [
      "N =  70\n",
      "Elapsed 0.6723421833333333 minutes\n"
     ]
    },
    {
     "data": {
      "application/vnd.jupyter.widget-view+json": {
       "model_id": "d36f0ed195c94702ad63fa60d14062bb",
       "version_major": 2,
       "version_minor": 0
      },
      "text/plain": [
       "chain 1 |          | 00:00 Status"
      ]
     },
     "metadata": {},
     "output_type": "display_data"
    },
    {
     "data": {
      "application/vnd.jupyter.widget-view+json": {
       "model_id": "1b05910e99a64483a0f454d7b4b4bfa3",
       "version_major": 2,
       "version_minor": 0
      },
      "text/plain": [
       "chain 2 |          | 00:00 Status"
      ]
     },
     "metadata": {},
     "output_type": "display_data"
    },
    {
     "data": {
      "application/vnd.jupyter.widget-view+json": {
       "model_id": "e27ee84ab6ba490ca2fc6ae9e0ff3efa",
       "version_major": 2,
       "version_minor": 0
      },
      "text/plain": [
       "chain 3 |          | 00:00 Status"
      ]
     },
     "metadata": {},
     "output_type": "display_data"
    },
    {
     "data": {
      "application/vnd.jupyter.widget-view+json": {
       "model_id": "297888a564ef4730975db446dad5d789",
       "version_major": 2,
       "version_minor": 0
      },
      "text/plain": [
       "chain 4 |          | 00:00 Status"
      ]
     },
     "metadata": {},
     "output_type": "display_data"
    },
    {
     "name": "stdout",
     "output_type": "stream",
     "text": [
      "                                                                                                                                                                                                                                                                                                                                "
     ]
    },
    {
     "name": "stderr",
     "output_type": "stream",
     "text": [
      "INFO:cmdstanpy:CmdStan done processing.\n"
     ]
    },
    {
     "name": "stdout",
     "output_type": "stream",
     "text": [
      "\n",
      "N =  200\n",
      "Elapsed 4.423640383333334 minutes\n"
     ]
    },
    {
     "data": {
      "image/png": "[encoded data removed]",
      "text/plain": [
       "<Figure size 432x288 with 1 Axes>"
      ]
     },
     "metadata": {
      "needs_background": "light"
     },
     "output_type": "display_data"
    },
    {
     "data": {
      "image/png": "[encoded data removed]",
      "text/plain": [
       "<Figure size 432x288 with 1 Axes>"
      ]
     },
     "metadata": {
      "needs_background": "light"
     },
     "output_type": "display_data"
    },
    {
     "data": {
      "image/png": "[encoded data removed]",
      "text/plain": [
       "<Figure size 432x288 with 1 Axes>"
      ]
     },
     "metadata": {
      "needs_background": "light"
     },
     "output_type": "display_data"
    },
    {
     "data": {
      "image/png": "[encoded data removed]",
      "text/plain": [
       "<Figure size 432x288 with 1 Axes>"
      ]
     },
     "metadata": {
      "needs_background": "light"
     },
     "output_type": "display_data"
    },
    {
     "data": {
      "image/png": "[encoded data removed]",
      "text/plain": [
       "<Figure size 432x288 with 1 Axes>"
      ]
     },
     "metadata": {
      "needs_background": "light"
     },
     "output_type": "display_data"
    },
    {
     "data": {
      "image/png": "[encoded data removed]",
      "text/plain": [
       "<Figure size 432x288 with 1 Axes>"
      ]
     },
     "metadata": {
      "needs_background": "light"
     },
     "output_type": "display_data"
    },
    {
     "data": {
      "image/png": "[encoded data removed]",
      "text/plain": [
       "<Figure size 432x288 with 1 Axes>"
      ]
     },
     "metadata": {
      "needs_background": "light"
     },
     "output_type": "display_data"
    },
    {
     "data": {
      "image/png": "[encoded data removed]",
      "text/plain": [
       "<Figure size 432x288 with 1 Axes>"
      ]
     },
     "metadata": {
      "needs_background": "light"
     },
     "output_type": "display_data"
    }
   ],
   "source": [
    "from datetime import datetime\n",
    "import numpy as np\n",
    "import matplotlib.pyplot as plt\n",
    "from matplotlib.ticker import ScalarFormatter\n",
    "\n",
    "loop_n = [10, 30, 70, 200]#, 300, 500] #, 1000]\n",
    "for n in loop_n:\n",
    "    start = datetime.now()\n",
    "    \n",
    "    k = np.arange(n) +1\n",
    "    x_nodes = np.cos((np.pi) * (2*k-1)/(2*n))\n",
    "    data={'x1':x,'y1':y, 'N1':len(x),'x2':x_nodes,'N2':len(x_nodes)}\n",
    "    result = model.sample(data=data, chains = 4)\n",
    "    # result.summary()\n",
    "    temp = result.summary().loc['y2[1]':,'Mean':'Mean']\n",
    "    temp2 = result.summary().loc['y2[1]':,'StdDev':'StdDev']\n",
    "\n",
    "    plt.figure(figsize=(6, 4))\n",
    "    plt.scatter(x_nodes,temp['Mean'],color=\"royalblue\",linewidth=0.1,label=\"Mean value\",  zorder = 1, edgecolors= \"black\")\n",
    "    plt.errorbar(x_nodes,temp['Mean'],temp2['StdDev']*1.95,alpha=0.25,ls='none',color=\"cornflowerblue\", label = \"95% confidence interval\",  zorder = 0)\n",
    "    plt.title(\"Order N = {}\".format(n))\n",
    "    plt.xlabel(\"x\")\n",
    "    plt.ylabel(\"f(x)\")\n",
    "    plt.locator_params(nbins=5, axis='x')\n",
    "    plt.locator_params(nbins=5, axis='y')\n",
    "    # plt.ylim(ymin=0, ymax=6)\n",
    "    plt.legend()\n",
    "\n",
    "    name = \"img_new/rbf/distribution-\"+str(n)+\".pdf\"\n",
    "    plt.savefig(name)\n",
    "\n",
    "    coef_matrix = result.stan_variable('y2')\n",
    "    for count,value in enumerate(coef_matrix):\n",
    "        extended_vector = np.append(np.flip(value),value[1:-1],0)\n",
    "        fourier_coeffs = np.real(np.fft.fft(extended_vector))\n",
    "        cheb_coef = fourier_coeffs[:n]/n\n",
    "        cheb_coef[0] = cheb_coef[0]/2\n",
    "        cheb_coef[-1] = cheb_coef[-1]/2\n",
    "        coef_matrix[count] = cheb_coef\n",
    "    np.set_printoptions(suppress=True)\n",
    "    coef_matrix[0]\n",
    "\n",
    "    final_result = np.mean(coef_matrix,axis=0)\n",
    "\n",
    "    test = abs(final_result)\n",
    "    x_plt = np.arange(0, n) \n",
    "    x_plt = x_plt + 1\n",
    "    plt.figure(figsize=(6, 4))\n",
    "    plt.scatter(x_plt,test,color='royalblue',label = \"Coefficient values\")\n",
    "    plt.yscale('log')\n",
    "    plt.title(\"Order N = {}\".format(n))\n",
    "    plt.ylabel(\"Value\")\n",
    "    plt.xlabel(\"Coefficient order\")\n",
    "    xticks = plt.xticks()\n",
    "\n",
    "    # plt.yticks([max(test), min(test)], labels=[\"{:.2E}\".format(max(test)), \"{:.1E}\".format(min(test))])\n",
    "    # plt.xticks([min(x_plt), max(x_plt)], labels=[min(x_plt), max(x_plt)])\n",
    "    # plt.legend()\n",
    "\n",
    "    plt.yticks([max(test), min(test)], labels=[format_scientific_notation(max(test)), format_scientific_notation(min(test))])\n",
    "    plt.xticks([min(x_plt), max(x_plt)], labels=[min(x_plt), max(x_plt)])\n",
    "    plt.legend()\n",
    "\n",
    "    name = \"img_new/rbf/order-\"+str(n)+\".pdf\"\n",
    "    plt.savefig(name, bbox_inches=\"tight\")\n",
    "    \n",
    "    end = datetime.now()\n",
    "    print(\"N = \", n)\n",
    "    print(\"Elapsed\", (end - start).total_seconds()/60, \"minutes\")\n",
    "\n",
    "    # plt.axhline(y = 0.0005, color = 'r', linestyle = '-',alpha=0.5)\n",
    "\n",
    " "
   ]
  },
  {
   "cell_type": "code",
   "execution_count": 133,
   "metadata": {},
   "outputs": [
    {
     "data": {
      "text/html": [
       "<div>\n",
       "<style scoped>\n",
       "    .dataframe tbody tr th:only-of-type {\n",
       "        vertical-align: middle;\n",
       "    }\n",
       "\n",
       "    .dataframe tbody tr th {\n",
       "        vertical-align: top;\n",
       "    }\n",
       "\n",
       "    .dataframe thead th {\n",
       "        text-align: right;\n",
       "    }\n",
       "</style>\n",
       "<table border=\"1\" class=\"dataframe\">\n",
       "  <thead>\n",
       "    <tr style=\"text-align: right;\">\n",
       "      <th></th>\n",
       "      <th>x_plt</th>\n",
       "      <th>test</th>\n",
       "      <th>x</th>\n",
       "      <th>avg</th>\n",
       "      <th>sdev</th>\n",
       "    </tr>\n",
       "  </thead>\n",
       "  <tbody>\n",
       "    <tr>\n",
       "      <th>0</th>\n",
       "      <td>1</td>\n",
       "      <td>7.748763e-01</td>\n",
       "      <td>-0.999969</td>\n",
       "      <td>-2.661552</td>\n",
       "      <td>0.453908</td>\n",
       "    </tr>\n",
       "    <tr>\n",
       "      <th>1</th>\n",
       "      <td>2</td>\n",
       "      <td>1.469396e+00</td>\n",
       "      <td>-0.999722</td>\n",
       "      <td>-2.661551</td>\n",
       "      <td>0.453907</td>\n",
       "    </tr>\n",
       "    <tr>\n",
       "      <th>2</th>\n",
       "      <td>3</td>\n",
       "      <td>6.324183e-01</td>\n",
       "      <td>-0.999229</td>\n",
       "      <td>-2.661547</td>\n",
       "      <td>0.453899</td>\n",
       "    </tr>\n",
       "    <tr>\n",
       "      <th>3</th>\n",
       "      <td>4</td>\n",
       "      <td>3.157345e-02</td>\n",
       "      <td>-0.998489</td>\n",
       "      <td>-2.661535</td>\n",
       "      <td>0.453875</td>\n",
       "    </tr>\n",
       "    <tr>\n",
       "      <th>4</th>\n",
       "      <td>5</td>\n",
       "      <td>1.061984e-01</td>\n",
       "      <td>-0.997503</td>\n",
       "      <td>-2.661505</td>\n",
       "      <td>0.453818</td>\n",
       "    </tr>\n",
       "    <tr>\n",
       "      <th>...</th>\n",
       "      <td>...</td>\n",
       "      <td>...</td>\n",
       "      <td>...</td>\n",
       "      <td>...</td>\n",
       "      <td>...</td>\n",
       "    </tr>\n",
       "    <tr>\n",
       "      <th>195</th>\n",
       "      <td>196</td>\n",
       "      <td>4.337450e-08</td>\n",
       "      <td>0.997503</td>\n",
       "      <td>0.107504</td>\n",
       "      <td>0.199400</td>\n",
       "    </tr>\n",
       "    <tr>\n",
       "      <th>196</th>\n",
       "      <td>197</td>\n",
       "      <td>2.361385e-07</td>\n",
       "      <td>0.998489</td>\n",
       "      <td>0.107501</td>\n",
       "      <td>0.199464</td>\n",
       "    </tr>\n",
       "    <tr>\n",
       "      <th>197</th>\n",
       "      <td>198</td>\n",
       "      <td>1.278458e-07</td>\n",
       "      <td>0.999229</td>\n",
       "      <td>0.107500</td>\n",
       "      <td>0.199491</td>\n",
       "    </tr>\n",
       "    <tr>\n",
       "      <th>198</th>\n",
       "      <td>199</td>\n",
       "      <td>6.295037e-08</td>\n",
       "      <td>0.999722</td>\n",
       "      <td>0.107500</td>\n",
       "      <td>0.199499</td>\n",
       "    </tr>\n",
       "    <tr>\n",
       "      <th>199</th>\n",
       "      <td>200</td>\n",
       "      <td>1.443405e-08</td>\n",
       "      <td>0.999969</td>\n",
       "      <td>0.107500</td>\n",
       "      <td>0.199500</td>\n",
       "    </tr>\n",
       "  </tbody>\n",
       "</table>\n",
       "<p>200 rows × 5 columns</p>\n",
       "</div>"
      ],
      "text/plain": [
       "     x_plt          test         x       avg      sdev\n",
       "0        1  7.748763e-01 -0.999969 -2.661552  0.453908\n",
       "1        2  1.469396e+00 -0.999722 -2.661551  0.453907\n",
       "2        3  6.324183e-01 -0.999229 -2.661547  0.453899\n",
       "3        4  3.157345e-02 -0.998489 -2.661535  0.453875\n",
       "4        5  1.061984e-01 -0.997503 -2.661505  0.453818\n",
       "..     ...           ...       ...       ...       ...\n",
       "195    196  4.337450e-08  0.997503  0.107504  0.199400\n",
       "196    197  2.361385e-07  0.998489  0.107501  0.199464\n",
       "197    198  1.278458e-07  0.999229  0.107500  0.199491\n",
       "198    199  6.295037e-08  0.999722  0.107500  0.199499\n",
       "199    200  1.443405e-08  0.999969  0.107500  0.199500\n",
       "\n",
       "[200 rows x 5 columns]"
      ]
     },
     "execution_count": 133,
     "metadata": {},
     "output_type": "execute_result"
    }
   ],
   "source": [
    "import pandas as pd\n",
    "\n",
    "# Specify the path to the CSV file\n",
    "csv_file_path = \"pfile.csv\"\n",
    "\n",
    "# Read the CSV file into a pandas DataFrame\n",
    "df = pd.read_csv(csv_file_path)\n",
    "\n",
    "# Now, df contains the data from the CSV file\n",
    "df\n"
   ]
  },
  {
   "cell_type": "code",
   "execution_count": 136,
   "metadata": {},
   "outputs": [
    {
     "name": "stdout",
     "output_type": "stream",
     "text": [
      "N =  200\n",
      "Elapsed 0.0032268 minutes\n"
     ]
    },
    {
     "data": {
      "image/png": "[encoded data removed]",
      "text/plain": [
       "<Figure size 432x288 with 1 Axes>"
      ]
     },
     "metadata": {
      "needs_background": "light"
     },
     "output_type": "display_data"
    },
    {
     "data": {
      "image/png": "[encoded data removed]",
      "text/plain": [
       "<Figure size 432x288 with 1 Axes>"
      ]
     },
     "metadata": {
      "needs_background": "light"
     },
     "output_type": "display_data"
    }
   ],
   "source": [
    "x_plt = df['x_plt']\n",
    "test = df['test']\n",
    "x = df['x']\n",
    "avg = df['avg']\n",
    "sdev = df['sdev']\n",
    "\n",
    "n = 200\n",
    "\n",
    "start = datetime.now()\n",
    "\n",
    "x = x[::-1]\n",
    "avg = avg[::-1]\n",
    "sdev = sdev[::-1]\n",
    "\n",
    "plt.figure(figsize=(6, 4))\n",
    "plt.scatter(x_nodes,avg,color=\"royalblue\",linewidth=0.1,label=\"Mean value\",  zorder = 1, edgecolors= \"black\")\n",
    "plt.errorbar(x_nodes,avg,sdev*1.95,alpha=0.25,ls='none',color=\"cornflowerblue\", label = \"95% confidence interval\",  zorder = 0)\n",
    "plt.title(\"Order N = {}\".format(n))\n",
    "plt.xlabel(\"x\")\n",
    "plt.ylabel(\"f(x)\")\n",
    "plt.locator_params(nbins=5, axis='x')\n",
    "plt.locator_params(nbins=5, axis='y')\n",
    "# plt.ylim(ymin=0, ymax=6)\n",
    "plt.legend()\n",
    "\n",
    "name = \"img_new/inla/mat/distribution-\"+str(n)+\".pdf\"\n",
    "plt.savefig(name)\n",
    "\n",
    "\n",
    "x_plt = np.arange(0, n) \n",
    "x_plt = x_plt + 1\n",
    "plt.figure(figsize=(6, 4))\n",
    "plt.scatter(x_plt,test,color='royalblue',label = \"Coefficient values\")\n",
    "plt.yscale('log')\n",
    "plt.title(\"Order N = {}\".format(n))\n",
    "plt.ylabel(\"Value\")\n",
    "plt.xlabel(\"Coefficient order\")\n",
    "xticks = plt.xticks()\n",
    "\n",
    "plt.yticks([max(test), min(test)], labels=[\"{:.2E}\".format(max(test)), \"{:.1E}\".format(min(test))])\n",
    "plt.xticks([min(x_plt), max(x_plt)], labels=[min(x_plt), max(x_plt)])\n",
    "plt.legend()\n",
    "\n",
    "name = \"img_new/inla/mat/order-\"+str(n)+\".pdf\"\n",
    "plt.savefig(name, bbox_inches=\"tight\")\n",
    "\n",
    "end = datetime.now()\n",
    "print(\"N = \", n)\n",
    "print(\"Elapsed\", (end - start).total_seconds()/60, \"minutes\")\n",
    "\n",
    "# plt.axhline(y = 0.0005, color = 'r', linestyle = '-',alpha=0.5)\n",
    "\n",
    " "
   ]
  },
  {
   "cell_type": "code",
   "execution_count": 147,
   "metadata": {},
   "outputs": [
    {
     "data": {
      "text/html": [
       "<div>\n",
       "<style scoped>\n",
       "    .dataframe tbody tr th:only-of-type {\n",
       "        vertical-align: middle;\n",
       "    }\n",
       "\n",
       "    .dataframe tbody tr th {\n",
       "        vertical-align: top;\n",
       "    }\n",
       "\n",
       "    .dataframe thead th {\n",
       "        text-align: right;\n",
       "    }\n",
       "</style>\n",
       "<table border=\"1\" class=\"dataframe\">\n",
       "  <thead>\n",
       "    <tr style=\"text-align: right;\">\n",
       "      <th></th>\n",
       "      <th>x_plt</th>\n",
       "      <th>test</th>\n",
       "      <th>x</th>\n",
       "      <th>avg</th>\n",
       "      <th>sdev</th>\n",
       "    </tr>\n",
       "  </thead>\n",
       "  <tbody>\n",
       "    <tr>\n",
       "      <th>0</th>\n",
       "      <td>1</td>\n",
       "      <td>0.656357</td>\n",
       "      <td>-0.987688</td>\n",
       "      <td>-2.724559</td>\n",
       "      <td>0.470680</td>\n",
       "    </tr>\n",
       "    <tr>\n",
       "      <th>1</th>\n",
       "      <td>2</td>\n",
       "      <td>1.293427</td>\n",
       "      <td>-0.891007</td>\n",
       "      <td>-2.647010</td>\n",
       "      <td>0.363821</td>\n",
       "    </tr>\n",
       "    <tr>\n",
       "      <th>2</th>\n",
       "      <td>3</td>\n",
       "      <td>0.602494</td>\n",
       "      <td>-0.707107</td>\n",
       "      <td>-2.058465</td>\n",
       "      <td>0.230186</td>\n",
       "    </tr>\n",
       "    <tr>\n",
       "      <th>3</th>\n",
       "      <td>4</td>\n",
       "      <td>0.044749</td>\n",
       "      <td>-0.453990</td>\n",
       "      <td>-0.978943</td>\n",
       "      <td>0.237370</td>\n",
       "    </tr>\n",
       "    <tr>\n",
       "      <th>4</th>\n",
       "      <td>5</td>\n",
       "      <td>0.030556</td>\n",
       "      <td>-0.156434</td>\n",
       "      <td>-0.295113</td>\n",
       "      <td>0.178636</td>\n",
       "    </tr>\n",
       "    <tr>\n",
       "      <th>5</th>\n",
       "      <td>6</td>\n",
       "      <td>0.078002</td>\n",
       "      <td>0.156434</td>\n",
       "      <td>0.129622</td>\n",
       "      <td>0.213594</td>\n",
       "    </tr>\n",
       "    <tr>\n",
       "      <th>6</th>\n",
       "      <td>7</td>\n",
       "      <td>0.024624</td>\n",
       "      <td>0.453990</td>\n",
       "      <td>0.180950</td>\n",
       "      <td>0.410214</td>\n",
       "    </tr>\n",
       "    <tr>\n",
       "      <th>7</th>\n",
       "      <td>8</td>\n",
       "      <td>0.017392</td>\n",
       "      <td>0.707107</td>\n",
       "      <td>0.321627</td>\n",
       "      <td>0.220652</td>\n",
       "    </tr>\n",
       "    <tr>\n",
       "      <th>8</th>\n",
       "      <td>9</td>\n",
       "      <td>0.026666</td>\n",
       "      <td>0.891007</td>\n",
       "      <td>0.091549</td>\n",
       "      <td>0.165701</td>\n",
       "    </tr>\n",
       "    <tr>\n",
       "      <th>9</th>\n",
       "      <td>10</td>\n",
       "      <td>0.032315</td>\n",
       "      <td>0.987688</td>\n",
       "      <td>0.108991</td>\n",
       "      <td>0.219873</td>\n",
       "    </tr>\n",
       "  </tbody>\n",
       "</table>\n",
       "</div>"
      ],
      "text/plain": [
       "   x_plt      test         x       avg      sdev\n",
       "0      1  0.656357 -0.987688 -2.724559  0.470680\n",
       "1      2  1.293427 -0.891007 -2.647010  0.363821\n",
       "2      3  0.602494 -0.707107 -2.058465  0.230186\n",
       "3      4  0.044749 -0.453990 -0.978943  0.237370\n",
       "4      5  0.030556 -0.156434 -0.295113  0.178636\n",
       "5      6  0.078002  0.156434  0.129622  0.213594\n",
       "6      7  0.024624  0.453990  0.180950  0.410214\n",
       "7      8  0.017392  0.707107  0.321627  0.220652\n",
       "8      9  0.026666  0.891007  0.091549  0.165701\n",
       "9     10  0.032315  0.987688  0.108991  0.219873"
      ]
     },
     "execution_count": 147,
     "metadata": {},
     "output_type": "execute_result"
    }
   ],
   "source": [
    "df"
   ]
  },
  {
   "cell_type": "code",
   "execution_count": 169,
   "metadata": {},
   "outputs": [
    {
     "name": "stdout",
     "output_type": "stream",
     "text": [
      "N =  10\n",
      "Elapsed 0.0035679333333333333 minutes\n"
     ]
    },
    {
     "data": {
      "image/png": "[encoded data removed]",
      "text/plain": [
       "<Figure size 432x288 with 1 Axes>"
      ]
     },
     "metadata": {
      "needs_background": "light"
     },
     "output_type": "display_data"
    },
    {
     "data": {
      "image/png": "[encoded data removed]",
      "text/plain": [
       "<Figure size 432x288 with 1 Axes>"
      ]
     },
     "metadata": {
      "needs_background": "light"
     },
     "output_type": "display_data"
    }
   ],
   "source": [
    "import pandas as pd\n",
    "# Specify the path to the CSV file\n",
    "csv_file_path = \"pfile10.csv\"\n",
    "\n",
    "# Read the CSV file into a pandas DataFrame\n",
    "df1 = pd.read_csv(\"pfile10.csv\")\n",
    "df = df1\n",
    "\n",
    "x_plt = df['x_plt']\n",
    "test = df['test']\n",
    "x = df['x']\n",
    "avg = df['avg']\n",
    "sdev = df['sdev']\n",
    "\n",
    "n = 10\n",
    "start = datetime.now()\n",
    "\n",
    "x = x[::-1]\n",
    "avg = avg[::-1]\n",
    "sdev = sdev[::-1]\n",
    "\n",
    "plt.figure(figsize=(6, 4))\n",
    "plt.scatter(x,avg,color=\"royalblue\",linewidth=0.1,label=\"Mean value\",  zorder = 1, edgecolors= \"black\")\n",
    "plt.errorbar(x,avg,sdev*1.95,alpha=0.25,ls='none',color=\"cornflowerblue\", label = \"95% confidence interval\",  zorder = 0)\n",
    "plt.title(\"Order N = {}\".format(n))\n",
    "plt.xlabel(\"x\")\n",
    "plt.ylabel(\"f(x)\")\n",
    "plt.locator_params(nbins=5, axis='x')\n",
    "plt.locator_params(nbins=5, axis='y')\n",
    "# plt.ylim(ymin=0, ymax=6)\n",
    "plt.legend()\n",
    "\n",
    "name = \"img_new/inla/mat/distribution-\"+str(n)+\".pdf\"\n",
    "plt.savefig(name)\n",
    "\n",
    "\n",
    "x_plt = np.arange(0, n) \n",
    "x_plt = x_plt + 1\n",
    "plt.figure(figsize=(6, 4))\n",
    "plt.scatter(x_plt,test,color='royalblue',label = \"Coefficient values\")\n",
    "plt.yscale('log')\n",
    "plt.title(\"Order N = {}\".format(n))\n",
    "plt.ylabel(\"Value\")\n",
    "plt.xlabel(\"Coefficient order\")\n",
    "xticks = plt.xticks()\n",
    "\n",
    "plt.yticks([max(test), min(test)], labels=[\"{:.2E}\".format(max(test)), \"{:.1E}\".format(min(test))])\n",
    "plt.xticks([min(x_plt), max(x_plt)], labels=[min(x_plt), max(x_plt)])\n",
    "plt.legend()\n",
    "\n",
    "name = \"img_new/inla/mat/order-\"+str(n)+\".pdf\"\n",
    "plt.savefig(name, bbox_inches=\"tight\")\n",
    "\n",
    "end = datetime.now()\n",
    "print(\"N = \", n)\n",
    "print(\"Elapsed\", (end - start).total_seconds()/60, \"minutes\")\n",
    "\n",
    "# plt.axhline(y = 0.0005, color = 'r', linestyle = '-',alpha=0.5)\n",
    "\n",
    " "
   ]
  },
  {
   "cell_type": "code",
   "execution_count": 37,
   "metadata": {},
   "outputs": [
    {
     "name": "stdout",
     "output_type": "stream",
     "text": [
      "N =  200\n"
     ]
    },
    {
     "data": {
      "image/png": "[encoded data removed]",
      "text/plain": [
       "<Figure size 432x288 with 1 Axes>"
      ]
     },
     "metadata": {
      "needs_background": "light"
     },
     "output_type": "display_data"
    },
    {
     "data": {
      "image/png": "[encoded data removed]",
      "text/plain": [
       "<Figure size 432x288 with 1 Axes>"
      ]
     },
     "metadata": {
      "needs_background": "light"
     },
     "output_type": "display_data"
    }
   ],
   "source": [
    "import pandas as pd\n",
    "# Specify the path to the CSV file\n",
    "csv_file_path = \"pfile10.csv\"\n",
    "\n",
    "# Read the CSV file into a pandas DataFrame\n",
    "df1 = pd.read_csv(\"ffile200.csv\")\n",
    "# df1 = pd.read_csv(\"rmat10.csv\")\n",
    "df = df1\n",
    "\n",
    "x_plt = df['x_plt']\n",
    "test = df['test']\n",
    "x = df['x']\n",
    "avg = df['avg']\n",
    "sdev = df['sdev']\n",
    "\n",
    "n = 200\n",
    "# start = datetime.now()\n",
    "\n",
    "x = x[::-1]\n",
    "avg = avg[::-1]\n",
    "sdev = sdev[::-1]\n",
    "\n",
    "plt.figure(figsize=(6, 4))\n",
    "plt.scatter(x,avg,color=\"royalblue\",linewidth=0.1,label=\"Mean value\",  zorder = 1, edgecolors= \"black\")\n",
    "plt.errorbar(x,avg,sdev*1.95,alpha=0.25,ls='none',color=\"cornflowerblue\", label = \"95% confidence interval\",  zorder = 0)\n",
    "plt.title(\"Order N = {}\".format(n))\n",
    "plt.xlabel(\"x\")\n",
    "plt.ylabel(\"f(x)\")\n",
    "plt.locator_params(nbins=5, axis='x')\n",
    "plt.locator_params(nbins=5, axis='y')\n",
    "# plt.ylim(ymin=0, ymax=6)\n",
    "plt.legend()\n",
    "\n",
    "name = \"img_new/inla/rbf/distribution-\"+str(n)+\".pdf\"\n",
    "plt.savefig(name)\n",
    "\n",
    "\n",
    "x_plt = np.arange(0, n) \n",
    "x_plt = x_plt + 1\n",
    "plt.figure(figsize=(6, 4))\n",
    "plt.scatter(x_plt,test,color='royalblue',label = \"Coefficient values\")\n",
    "plt.yscale('log')\n",
    "plt.title(\"Order N = {}\".format(n))\n",
    "plt.ylabel(\"Value\")\n",
    "plt.xlabel(\"Coefficient order\")\n",
    "xticks = plt.xticks()\n",
    "\n",
    "plt.yticks([max(test), min(test)], labels=[format_scientific_notation(max(test)), format_scientific_notation(min(test))])\n",
    "plt.xticks([min(x_plt), max(x_plt)], labels=[min(x_plt), max(x_plt)])\n",
    "plt.legend()\n",
    "\n",
    "# name = \"img_new/inla/rbf/order-\"+str(n)+\".pdf\"\n",
    "name = \"img_new/inla/rbf/order-\"+str(n)+\".pdf\"\n",
    "plt.savefig(name, bbox_inches=\"tight\")\n",
    "\n",
    "# end = datetime.now()\n",
    "print(\"N = \", n)\n",
    "# print(\"Elapsed\", (end - start).total_seconds()/60, \"minutes\")\n",
    "\n",
    "# plt.axhline(y = 0.0005, color = 'r', linestyle = '-',alpha=0.5)\n",
    "\n",
    " "
   ]
  },
  {
   "cell_type": "code",
   "execution_count": 19,
   "metadata": {},
   "outputs": [
    {
     "data": {
      "text/plain": [
       "0.0001165440015654"
      ]
     },
     "execution_count": 19,
     "metadata": {},
     "output_type": "execute_result"
    }
   ],
   "source": [
    "min(test)"
   ]
  }
 ],
 "metadata": {
  "kernelspec": {
   "display_name": "stan2023",
   "language": "python",
   "name": "python3"
  },
  "language_info": {
   "codemirror_mode": {
    "name": "ipython",
    "version": 3
   },
   "file_extension": ".py",
   "mimetype": "text/x-python",
   "name": "python",
   "nbconvert_exporter": "python",
   "pygments_lexer": "ipython3",
   "version": "3.9.6"
  },
  "orig_nbformat": 4,
  "vscode": {
   "interpreter": {
    "hash": "e65f5feba7fa7d14bed8a238c300afee34d1e60a749a74a77e09341b5f95759b"
   }
  }
 },
 "nbformat": 4,
 "nbformat_minor": 2
}
